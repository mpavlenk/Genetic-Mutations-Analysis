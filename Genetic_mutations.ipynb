{
 "cells": [
  {
   "cell_type": "markdown",
   "metadata": {},
   "source": [
    "<h1><center>Analysis of Genetic Mutations</center></h1>\n",
    "<h5><center>*Fragments of analysis</center></h5>\n",
    "<h2><center>Text Mining</center></h2>\n",
    "<center>Analyzing text data to find anomalies, patterns and correlations to predict pathogenic gene mutations</center>\n",
    "<h2><a href=\"https://github.com/mpavlenk/Genetic-Mutations-Analysis\">Data file</a><h2>\n",
    "<h3><strong>INDEX:</strong><br></h3>\n",
    "<p>1: <a href=\"#Data Overview\">Data Overview</a><br>\n",
    "2: <a href=\"#Visualizations\">Visualizations</a><br>\n",
    "3: <a href=\"#Text exploration\">Text exploration</a><br>\n",
    "4: <a href=\"#FT (Term Frequency)\">TF (Term Frequency)</a><br>\n",
    "5: <a href=\"#Sentiment Analysis\">Sentiment Analysis</a><br>                   \n",
    "6: <a href=\"#Conclusion\">Conclusion</a><p>"
   ]
  },
  {
   "cell_type": "code",
   "execution_count": 97,
   "metadata": {},
   "outputs": [],
   "source": [
    "#Importing libraries\n",
    "library('ggplot2')\n",
    "library('ggthemes') \n",
    "library('scales') \n",
    "library('grid') \n",
    "library('gridExtra') \n",
    "library('corrplot') \n",
    "library('ggraph')\n",
    "library('igraph') \n",
    "library('dplyr') \n",
    "library('readr') \n",
    "library('tibble')\n",
    "library('tidyr') \n",
    "library('stringr')\n",
    "library('forcats')\n",
    "library('tidytext') \n",
    "library('SnowballC')\n",
    "library('wordcloud')\n",
    "library('stringr')\n",
    "library(devtools)\n",
    "library(ggpubr)\n",
    "library(h2o)"
   ]
  },
  {
   "cell_type": "markdown",
   "metadata": {},
   "source": [
    "<h1><font color=\"red\"><center id=\"Data Overview\">Data Overview<a class=\"anchor-link\" href=\"#Data Overview\">&#182;</a><center></font></h1>"
   ]
  },
  {
   "cell_type": "code",
   "execution_count": 7,
   "metadata": {},
   "outputs": [
    {
     "name": "stderr",
     "output_type": "stream",
     "text": [
      "Parsed with column specification:\n",
      "cols(\n",
      "  ID = col_double(),\n",
      "  Gene = col_character(),\n",
      "  Variation = col_character(),\n",
      "  Class = col_double()\n",
      ")\n",
      "Parsed with column specification:\n",
      "cols(\n",
      "  ID = col_double(),\n",
      "  Gene = col_character(),\n",
      "  Variation = col_character(),\n",
      "  Class = col_double()\n",
      ")\n"
     ]
    },
    {
     "data": {
      "text/html": [
       "<table>\n",
       "<thead><tr><th scope=col>ID</th><th scope=col>Gene</th><th scope=col>Variation</th><th scope=col>Class</th></tr></thead>\n",
       "<tbody>\n",
       "\t<tr><td>0                   </td><td>FAM58A              </td><td>Truncating Mutations</td><td>1                   </td></tr>\n",
       "\t<tr><td>1                   </td><td>CBL                 </td><td>W802*               </td><td>2                   </td></tr>\n",
       "\t<tr><td>2                   </td><td>CBL                 </td><td>Q249E               </td><td>2                   </td></tr>\n",
       "\t<tr><td>3                   </td><td>CBL                 </td><td>N454D               </td><td>3                   </td></tr>\n",
       "\t<tr><td>4                   </td><td>CBL                 </td><td>L399V               </td><td>4                   </td></tr>\n",
       "\t<tr><td>5                   </td><td>CBL                 </td><td>V391I               </td><td>4                   </td></tr>\n",
       "</tbody>\n",
       "</table>\n"
      ],
      "text/latex": [
       "\\begin{tabular}{r|llll}\n",
       " ID & Gene & Variation & Class\\\\\n",
       "\\hline\n",
       "\t 0                    & FAM58A               & Truncating Mutations & 1                   \\\\\n",
       "\t 1                    & CBL                  & W802*                & 2                   \\\\\n",
       "\t 2                    & CBL                  & Q249E                & 2                   \\\\\n",
       "\t 3                    & CBL                  & N454D                & 3                   \\\\\n",
       "\t 4                    & CBL                  & L399V                & 4                   \\\\\n",
       "\t 5                    & CBL                  & V391I                & 4                   \\\\\n",
       "\\end{tabular}\n"
      ],
      "text/markdown": [
       "\n",
       "| ID | Gene | Variation | Class |\n",
       "|---|---|---|---|\n",
       "| 0                    | FAM58A               | Truncating Mutations | 1                    |\n",
       "| 1                    | CBL                  | W802*                | 2                    |\n",
       "| 2                    | CBL                  | Q249E                | 2                    |\n",
       "| 3                    | CBL                  | N454D                | 3                    |\n",
       "| 4                    | CBL                  | L399V                | 4                    |\n",
       "| 5                    | CBL                  | V391I                | 4                    |\n",
       "\n"
      ],
      "text/plain": [
       "  ID Gene   Variation            Class\n",
       "1 0  FAM58A Truncating Mutations 1    \n",
       "2 1  CBL    W802*                2    \n",
       "3 2  CBL    Q249E                2    \n",
       "4 3  CBL    N454D                3    \n",
       "5 4  CBL    L399V                4    \n",
       "6 5  CBL    V391I                4    "
      ]
     },
     "metadata": {},
     "output_type": "display_data"
    }
   ],
   "source": [
    "#Overview of data\n",
    "train <- read_csv(\"training_variants\")\n",
    "test  <- read_csv('test_variants.csv')\n",
    "head(train)"
   ]
  },
  {
   "cell_type": "code",
   "execution_count": 8,
   "metadata": {},
   "outputs": [
    {
     "data": {
      "text/html": [
       "0"
      ],
      "text/latex": [
       "0"
      ],
      "text/markdown": [
       "0"
      ],
      "text/plain": [
       "[1] 0"
      ]
     },
     "metadata": {},
     "output_type": "display_data"
    },
    {
     "data": {
      "text/html": [
       "0"
      ],
      "text/latex": [
       "0"
      ],
      "text/markdown": [
       "0"
      ],
      "text/plain": [
       "[1] 0"
      ]
     },
     "metadata": {},
     "output_type": "display_data"
    }
   ],
   "source": [
    "#checking for missing values\n",
    "sum(is.na(train))\n",
    "sum(is.na(test))"
   ]
  },
  {
   "cell_type": "code",
   "execution_count": 9,
   "metadata": {},
   "outputs": [
    {
     "name": "stdout",
     "output_type": "stream",
     "text": [
      "Observations: 3,321\n",
      "Variables: 4\n",
      "$ ID        <dbl> 0, 1, 2, 3, 4, 5, 6, 7, 8, 9, 10, 11, 12, 13, 14, 15, 16,...\n",
      "$ Gene      <chr> \"FAM58A\", \"CBL\", \"CBL\", \"CBL\", \"CBL\", \"CBL\", \"CBL\", \"CBL\"...\n",
      "$ Variation <chr> \"Truncating Mutations\", \"W802*\", \"Q249E\", \"N454D\", \"L399V...\n",
      "$ Class     <dbl> 1, 2, 2, 3, 4, 4, 5, 1, 4, 4, 4, 4, 4, 4, 5, 4, 1, 4, 5, ...\n"
     ]
    },
    {
     "data": {
      "text/plain": [
       "       ID           Gene            Variation             Class      \n",
       " Min.   :   0   Length:3321        Length:3321        Min.   :1.000  \n",
       " 1st Qu.: 830   Class :character   Class :character   1st Qu.:2.000  \n",
       " Median :1660   Mode  :character   Mode  :character   Median :4.000  \n",
       " Mean   :1660                                         Mean   :4.366  \n",
       " 3rd Qu.:2490                                         3rd Qu.:7.000  \n",
       " Max.   :3320                                         Max.   :9.000  "
      ]
     },
     "metadata": {},
     "output_type": "display_data"
    }
   ],
   "source": [
    "glimpse(train)\n",
    "summary(train)"
   ]
  },
  {
   "cell_type": "code",
   "execution_count": 14,
   "metadata": {},
   "outputs": [
    {
     "data": {
      "text/html": [
       "<table>\n",
       "<thead><tr><th scope=col>Gene</th><th scope=col>ct</th></tr></thead>\n",
       "<tbody>\n",
       "\t<tr><td>BRCA1 </td><td>264   </td></tr>\n",
       "\t<tr><td>TP53  </td><td>163   </td></tr>\n",
       "\t<tr><td>EGFR  </td><td>141   </td></tr>\n",
       "\t<tr><td>PTEN  </td><td>126   </td></tr>\n",
       "\t<tr><td>BRCA2 </td><td>125   </td></tr>\n",
       "\t<tr><td>KIT   </td><td> 99   </td></tr>\n",
       "\t<tr><td>BRAF  </td><td> 93   </td></tr>\n",
       "\t<tr><td>ALK   </td><td> 69   </td></tr>\n",
       "\t<tr><td>ERBB2 </td><td> 69   </td></tr>\n",
       "\t<tr><td>PDGFRA</td><td> 60   </td></tr>\n",
       "\t<tr><td>PIK3CA</td><td> 56   </td></tr>\n",
       "\t<tr><td>CDKN2A</td><td> 52   </td></tr>\n",
       "\t<tr><td>FGFR2 </td><td> 50   </td></tr>\n",
       "\t<tr><td>FLT3  </td><td> 49   </td></tr>\n",
       "\t<tr><td>TSC2  </td><td> 47   </td></tr>\n",
       "\t<tr><td>MTOR  </td><td> 45   </td></tr>\n",
       "\t<tr><td>KRAS  </td><td> 44   </td></tr>\n",
       "\t<tr><td>MAP2K1</td><td> 43   </td></tr>\n",
       "\t<tr><td>VHL   </td><td> 41   </td></tr>\n",
       "\t<tr><td>RET   </td><td> 40   </td></tr>\n",
       "\t<tr><td>FGFR3 </td><td> 39   </td></tr>\n",
       "\t<tr><td>MLH1  </td><td> 35   </td></tr>\n",
       "\t<tr><td>JAK2  </td><td> 33   </td></tr>\n",
       "\t<tr><td>MET   </td><td> 33   </td></tr>\n",
       "\t<tr><td>SMAD4 </td><td> 33   </td></tr>\n",
       "\t<tr><td>NOTCH1</td><td> 31   </td></tr>\n",
       "\t<tr><td>AKT1  </td><td> 28   </td></tr>\n",
       "\t<tr><td>ABL1  </td><td> 26   </td></tr>\n",
       "\t<tr><td>PTPN11</td><td> 26   </td></tr>\n",
       "\t<tr><td>ROS1  </td><td> 26   </td></tr>\n",
       "\t<tr><td>...</td><td>...</td></tr>\n",
       "\t<tr><td>LATS2  </td><td>1      </td></tr>\n",
       "\t<tr><td>MDM2   </td><td>1      </td></tr>\n",
       "\t<tr><td>MDM4   </td><td>1      </td></tr>\n",
       "\t<tr><td>MEN1   </td><td>1      </td></tr>\n",
       "\t<tr><td>MYOD1  </td><td>1      </td></tr>\n",
       "\t<tr><td>NCOR1  </td><td>1      </td></tr>\n",
       "\t<tr><td>PAK1   </td><td>1      </td></tr>\n",
       "\t<tr><td>PAX8   </td><td>1      </td></tr>\n",
       "\t<tr><td>PIK3R3 </td><td>1      </td></tr>\n",
       "\t<tr><td>PMS1   </td><td>1      </td></tr>\n",
       "\t<tr><td>PPM1D  </td><td>1      </td></tr>\n",
       "\t<tr><td>RAD51B </td><td>1      </td></tr>\n",
       "\t<tr><td>RAD51D </td><td>1      </td></tr>\n",
       "\t<tr><td>RAD54L </td><td>1      </td></tr>\n",
       "\t<tr><td>RARA   </td><td>1      </td></tr>\n",
       "\t<tr><td>RICTOR </td><td>1      </td></tr>\n",
       "\t<tr><td>RNF43  </td><td>1      </td></tr>\n",
       "\t<tr><td>RRAS2  </td><td>1      </td></tr>\n",
       "\t<tr><td>RYBP   </td><td>1      </td></tr>\n",
       "\t<tr><td>SDHB   </td><td>1      </td></tr>\n",
       "\t<tr><td>SDHC   </td><td>1      </td></tr>\n",
       "\t<tr><td>SHOC2  </td><td>1      </td></tr>\n",
       "\t<tr><td>SHQ1   </td><td>1      </td></tr>\n",
       "\t<tr><td>SRSF2  </td><td>1      </td></tr>\n",
       "\t<tr><td>STAG2  </td><td>1      </td></tr>\n",
       "\t<tr><td>TCF3   </td><td>1      </td></tr>\n",
       "\t<tr><td>TCF7L2 </td><td>1      </td></tr>\n",
       "\t<tr><td>VEGFA  </td><td>1      </td></tr>\n",
       "\t<tr><td>WHSC1  </td><td>1      </td></tr>\n",
       "\t<tr><td>WHSC1L1</td><td>1      </td></tr>\n",
       "</tbody>\n",
       "</table>\n"
      ],
      "text/latex": [
       "\\begin{tabular}{r|ll}\n",
       " Gene & ct\\\\\n",
       "\\hline\n",
       "\t BRCA1  & 264   \\\\\n",
       "\t TP53   & 163   \\\\\n",
       "\t EGFR   & 141   \\\\\n",
       "\t PTEN   & 126   \\\\\n",
       "\t BRCA2  & 125   \\\\\n",
       "\t KIT    &  99   \\\\\n",
       "\t BRAF   &  93   \\\\\n",
       "\t ALK    &  69   \\\\\n",
       "\t ERBB2  &  69   \\\\\n",
       "\t PDGFRA &  60   \\\\\n",
       "\t PIK3CA &  56   \\\\\n",
       "\t CDKN2A &  52   \\\\\n",
       "\t FGFR2  &  50   \\\\\n",
       "\t FLT3   &  49   \\\\\n",
       "\t TSC2   &  47   \\\\\n",
       "\t MTOR   &  45   \\\\\n",
       "\t KRAS   &  44   \\\\\n",
       "\t MAP2K1 &  43   \\\\\n",
       "\t VHL    &  41   \\\\\n",
       "\t RET    &  40   \\\\\n",
       "\t FGFR3  &  39   \\\\\n",
       "\t MLH1   &  35   \\\\\n",
       "\t JAK2   &  33   \\\\\n",
       "\t MET    &  33   \\\\\n",
       "\t SMAD4  &  33   \\\\\n",
       "\t NOTCH1 &  31   \\\\\n",
       "\t AKT1   &  28   \\\\\n",
       "\t ABL1   &  26   \\\\\n",
       "\t PTPN11 &  26   \\\\\n",
       "\t ROS1   &  26   \\\\\n",
       "\t ... & ...\\\\\n",
       "\t LATS2   & 1      \\\\\n",
       "\t MDM2    & 1      \\\\\n",
       "\t MDM4    & 1      \\\\\n",
       "\t MEN1    & 1      \\\\\n",
       "\t MYOD1   & 1      \\\\\n",
       "\t NCOR1   & 1      \\\\\n",
       "\t PAK1    & 1      \\\\\n",
       "\t PAX8    & 1      \\\\\n",
       "\t PIK3R3  & 1      \\\\\n",
       "\t PMS1    & 1      \\\\\n",
       "\t PPM1D   & 1      \\\\\n",
       "\t RAD51B  & 1      \\\\\n",
       "\t RAD51D  & 1      \\\\\n",
       "\t RAD54L  & 1      \\\\\n",
       "\t RARA    & 1      \\\\\n",
       "\t RICTOR  & 1      \\\\\n",
       "\t RNF43   & 1      \\\\\n",
       "\t RRAS2   & 1      \\\\\n",
       "\t RYBP    & 1      \\\\\n",
       "\t SDHB    & 1      \\\\\n",
       "\t SDHC    & 1      \\\\\n",
       "\t SHOC2   & 1      \\\\\n",
       "\t SHQ1    & 1      \\\\\n",
       "\t SRSF2   & 1      \\\\\n",
       "\t STAG2   & 1      \\\\\n",
       "\t TCF3    & 1      \\\\\n",
       "\t TCF7L2  & 1      \\\\\n",
       "\t VEGFA   & 1      \\\\\n",
       "\t WHSC1   & 1      \\\\\n",
       "\t WHSC1L1 & 1      \\\\\n",
       "\\end{tabular}\n"
      ],
      "text/markdown": [
       "\n",
       "| Gene | ct |\n",
       "|---|---|\n",
       "| BRCA1  | 264    |\n",
       "| TP53   | 163    |\n",
       "| EGFR   | 141    |\n",
       "| PTEN   | 126    |\n",
       "| BRCA2  | 125    |\n",
       "| KIT    |  99    |\n",
       "| BRAF   |  93    |\n",
       "| ALK    |  69    |\n",
       "| ERBB2  |  69    |\n",
       "| PDGFRA |  60    |\n",
       "| PIK3CA |  56    |\n",
       "| CDKN2A |  52    |\n",
       "| FGFR2  |  50    |\n",
       "| FLT3   |  49    |\n",
       "| TSC2   |  47    |\n",
       "| MTOR   |  45    |\n",
       "| KRAS   |  44    |\n",
       "| MAP2K1 |  43    |\n",
       "| VHL    |  41    |\n",
       "| RET    |  40    |\n",
       "| FGFR3  |  39    |\n",
       "| MLH1   |  35    |\n",
       "| JAK2   |  33    |\n",
       "| MET    |  33    |\n",
       "| SMAD4  |  33    |\n",
       "| NOTCH1 |  31    |\n",
       "| AKT1   |  28    |\n",
       "| ABL1   |  26    |\n",
       "| PTPN11 |  26    |\n",
       "| ROS1   |  26    |\n",
       "| ... | ... |\n",
       "| LATS2   | 1       |\n",
       "| MDM2    | 1       |\n",
       "| MDM4    | 1       |\n",
       "| MEN1    | 1       |\n",
       "| MYOD1   | 1       |\n",
       "| NCOR1   | 1       |\n",
       "| PAK1    | 1       |\n",
       "| PAX8    | 1       |\n",
       "| PIK3R3  | 1       |\n",
       "| PMS1    | 1       |\n",
       "| PPM1D   | 1       |\n",
       "| RAD51B  | 1       |\n",
       "| RAD51D  | 1       |\n",
       "| RAD54L  | 1       |\n",
       "| RARA    | 1       |\n",
       "| RICTOR  | 1       |\n",
       "| RNF43   | 1       |\n",
       "| RRAS2   | 1       |\n",
       "| RYBP    | 1       |\n",
       "| SDHB    | 1       |\n",
       "| SDHC    | 1       |\n",
       "| SHOC2   | 1       |\n",
       "| SHQ1    | 1       |\n",
       "| SRSF2   | 1       |\n",
       "| STAG2   | 1       |\n",
       "| TCF3    | 1       |\n",
       "| TCF7L2  | 1       |\n",
       "| VEGFA   | 1       |\n",
       "| WHSC1   | 1       |\n",
       "| WHSC1L1 | 1       |\n",
       "\n"
      ],
      "text/plain": [
       "    Gene    ct \n",
       "1   BRCA1   264\n",
       "2   TP53    163\n",
       "3   EGFR    141\n",
       "4   PTEN    126\n",
       "5   BRCA2   125\n",
       "6   KIT      99\n",
       "7   BRAF     93\n",
       "8   ALK      69\n",
       "9   ERBB2    69\n",
       "10  PDGFRA   60\n",
       "11  PIK3CA   56\n",
       "12  CDKN2A   52\n",
       "13  FGFR2    50\n",
       "14  FLT3     49\n",
       "15  TSC2     47\n",
       "16  MTOR     45\n",
       "17  KRAS     44\n",
       "18  MAP2K1   43\n",
       "19  VHL      41\n",
       "20  RET      40\n",
       "21  FGFR3    39\n",
       "22  MLH1     35\n",
       "23  JAK2     33\n",
       "24  MET      33\n",
       "25  SMAD4    33\n",
       "26  NOTCH1   31\n",
       "27  AKT1     28\n",
       "28  ABL1     26\n",
       "29  PTPN11   26\n",
       "30  ROS1     26\n",
       "... ...     ...\n",
       "235 LATS2   1  \n",
       "236 MDM2    1  \n",
       "237 MDM4    1  \n",
       "238 MEN1    1  \n",
       "239 MYOD1   1  \n",
       "240 NCOR1   1  \n",
       "241 PAK1    1  \n",
       "242 PAX8    1  \n",
       "243 PIK3R3  1  \n",
       "244 PMS1    1  \n",
       "245 PPM1D   1  \n",
       "246 RAD51B  1  \n",
       "247 RAD51D  1  \n",
       "248 RAD54L  1  \n",
       "249 RARA    1  \n",
       "250 RICTOR  1  \n",
       "251 RNF43   1  \n",
       "252 RRAS2   1  \n",
       "253 RYBP    1  \n",
       "254 SDHB    1  \n",
       "255 SDHC    1  \n",
       "256 SHOC2   1  \n",
       "257 SHQ1    1  \n",
       "258 SRSF2   1  \n",
       "259 STAG2   1  \n",
       "260 TCF3    1  \n",
       "261 TCF7L2  1  \n",
       "262 VEGFA   1  \n",
       "263 WHSC1   1  \n",
       "264 WHSC1L1 1  "
      ]
     },
     "metadata": {},
     "output_type": "display_data"
    }
   ],
   "source": [
    "#There are 3321 different IDs in the training set containing 264 different Gene expressions with 2996 different Variations. \n",
    "#count of Genes\n",
    "train %>%\n",
    "  group_by(Gene) %>%\n",
    "  summarise(ct = n()) %>%\n",
    "  arrange(desc(ct))"
   ]
  },
  {
   "cell_type": "code",
   "execution_count": 149,
   "metadata": {},
   "outputs": [
    {
     "data": {
      "text/html": [
       "<table>\n",
       "<thead><tr><th scope=col>Class</th><th scope=col>Genes</th></tr></thead>\n",
       "<tbody>\n",
       "\t<tr><td>1  </td><td>142</td></tr>\n",
       "\t<tr><td>2  </td><td> 96</td></tr>\n",
       "\t<tr><td>3  </td><td> 26</td></tr>\n",
       "\t<tr><td>4  </td><td> 92</td></tr>\n",
       "\t<tr><td>5  </td><td> 48</td></tr>\n",
       "\t<tr><td>6  </td><td> 56</td></tr>\n",
       "\t<tr><td>7  </td><td>108</td></tr>\n",
       "\t<tr><td>8  </td><td> 12</td></tr>\n",
       "\t<tr><td>9  </td><td> 10</td></tr>\n",
       "</tbody>\n",
       "</table>\n"
      ],
      "text/latex": [
       "\\begin{tabular}{r|ll}\n",
       " Class & Genes\\\\\n",
       "\\hline\n",
       "\t 1   & 142\\\\\n",
       "\t 2   &  96\\\\\n",
       "\t 3   &  26\\\\\n",
       "\t 4   &  92\\\\\n",
       "\t 5   &  48\\\\\n",
       "\t 6   &  56\\\\\n",
       "\t 7   & 108\\\\\n",
       "\t 8   &  12\\\\\n",
       "\t 9   &  10\\\\\n",
       "\\end{tabular}\n"
      ],
      "text/markdown": [
       "\n",
       "| Class | Genes |\n",
       "|---|---|\n",
       "| 1   | 142 |\n",
       "| 2   |  96 |\n",
       "| 3   |  26 |\n",
       "| 4   |  92 |\n",
       "| 5   |  48 |\n",
       "| 6   |  56 |\n",
       "| 7   | 108 |\n",
       "| 8   |  12 |\n",
       "| 9   |  10 |\n",
       "\n"
      ],
      "text/plain": [
       "  Class Genes\n",
       "1 1     142  \n",
       "2 2      96  \n",
       "3 3      26  \n",
       "4 4      92  \n",
       "5 5      48  \n",
       "6 6      56  \n",
       "7 7     108  \n",
       "8 8      12  \n",
       "9 9      10  "
      ]
     },
     "metadata": {},
     "output_type": "display_data"
    }
   ],
   "source": [
    "#Aggregating genes by class\n",
    "gene_per_class<- aggregate(train$Gene, by=list(train$Class),FUN= n_distinct) \n",
    "colnames(gene_per_class) = c('Class','Genes')\n",
    "gene_per_class"
   ]
  },
  {
   "cell_type": "code",
   "execution_count": 15,
   "metadata": {},
   "outputs": [
    {
     "data": {
      "text/html": [
       "<table>\n",
       "<thead><tr><th scope=col>Variation</th><th scope=col>ct</th></tr></thead>\n",
       "<tbody>\n",
       "\t<tr><td>Truncating Mutations</td><td>93                  </td></tr>\n",
       "\t<tr><td>Deletion            </td><td>74                  </td></tr>\n",
       "\t<tr><td>Amplification       </td><td>71                  </td></tr>\n",
       "\t<tr><td>Fusions             </td><td>34                  </td></tr>\n",
       "\t<tr><td>Overexpression      </td><td> 6                  </td></tr>\n",
       "\t<tr><td>G12V                </td><td> 4                  </td></tr>\n",
       "\t<tr><td>E17K                </td><td> 3                  </td></tr>\n",
       "\t<tr><td>Q61H                </td><td> 3                  </td></tr>\n",
       "\t<tr><td>Q61L                </td><td> 3                  </td></tr>\n",
       "\t<tr><td>Q61R                </td><td> 3                  </td></tr>\n",
       "\t<tr><td>T58I                </td><td> 3                  </td></tr>\n",
       "\t<tr><td>A146T               </td><td> 2                  </td></tr>\n",
       "\t<tr><td>A146V               </td><td> 2                  </td></tr>\n",
       "\t<tr><td>C618R               </td><td> 2                  </td></tr>\n",
       "\t<tr><td>E330K               </td><td> 2                  </td></tr>\n",
       "\t<tr><td>E542K               </td><td> 2                  </td></tr>\n",
       "\t<tr><td>ETV6-NTRK3 Fusion   </td><td> 2                  </td></tr>\n",
       "\t<tr><td>EWSR1-ETV1 Fusion   </td><td> 2                  </td></tr>\n",
       "\t<tr><td>F28L                </td><td> 2                  </td></tr>\n",
       "\t<tr><td>F384L               </td><td> 2                  </td></tr>\n",
       "\t<tr><td>G12A                </td><td> 2                  </td></tr>\n",
       "\t<tr><td>G12C                </td><td> 2                  </td></tr>\n",
       "\t<tr><td>G12D                </td><td> 2                  </td></tr>\n",
       "\t<tr><td>G12S                </td><td> 2                  </td></tr>\n",
       "\t<tr><td>G13C                </td><td> 2                  </td></tr>\n",
       "\t<tr><td>G13D                </td><td> 2                  </td></tr>\n",
       "\t<tr><td>G13V                </td><td> 2                  </td></tr>\n",
       "\t<tr><td>G35R                </td><td> 2                  </td></tr>\n",
       "\t<tr><td>G67R                </td><td> 2                  </td></tr>\n",
       "\t<tr><td>I31M                </td><td> 2                  </td></tr>\n",
       "\t<tr><td>...</td><td>...</td></tr>\n",
       "\t<tr><td>Y646H              </td><td>1                  </td></tr>\n",
       "\t<tr><td>Y646N              </td><td>1                  </td></tr>\n",
       "\t<tr><td>Y646S              </td><td>1                  </td></tr>\n",
       "\t<tr><td>Y647C              </td><td>1                  </td></tr>\n",
       "\t<tr><td>Y652H              </td><td>1                  </td></tr>\n",
       "\t<tr><td>Y65C               </td><td>1                  </td></tr>\n",
       "\t<tr><td>Y68D               </td><td>1                  </td></tr>\n",
       "\t<tr><td>Y68H               </td><td>1                  </td></tr>\n",
       "\t<tr><td>Y69H               </td><td>1                  </td></tr>\n",
       "\t<tr><td>Y772_A775dup       </td><td>1                  </td></tr>\n",
       "\t<tr><td>Y791F              </td><td>1                  </td></tr>\n",
       "\t<tr><td>Y801H              </td><td>1                  </td></tr>\n",
       "\t<tr><td>Y803N              </td><td>1                  </td></tr>\n",
       "\t<tr><td>Y806C              </td><td>1                  </td></tr>\n",
       "\t<tr><td>Y823D              </td><td>1                  </td></tr>\n",
       "\t<tr><td>Y835F              </td><td>1                  </td></tr>\n",
       "\t<tr><td>Y842C              </td><td>1                  </td></tr>\n",
       "\t<tr><td>Y846C              </td><td>1                  </td></tr>\n",
       "\t<tr><td>Y849C              </td><td>1                  </td></tr>\n",
       "\t<tr><td>Y849S              </td><td>1                  </td></tr>\n",
       "\t<tr><td>Y87C               </td><td>1                  </td></tr>\n",
       "\t<tr><td>Y87N               </td><td>1                  </td></tr>\n",
       "\t<tr><td>Y901C              </td><td>1                  </td></tr>\n",
       "\t<tr><td>Y931C              </td><td>1                  </td></tr>\n",
       "\t<tr><td>Y98H               </td><td>1                  </td></tr>\n",
       "\t<tr><td>Y98N               </td><td>1                  </td></tr>\n",
       "\t<tr><td>YAP1-FAM118B Fusion</td><td>1                  </td></tr>\n",
       "\t<tr><td>YAP1-MAMLD1 Fusion </td><td>1                  </td></tr>\n",
       "\t<tr><td>ZC3H7B-BCOR Fusion </td><td>1                  </td></tr>\n",
       "\t<tr><td>ZNF198-FGFR1 Fusion</td><td>1                  </td></tr>\n",
       "</tbody>\n",
       "</table>\n"
      ],
      "text/latex": [
       "\\begin{tabular}{r|ll}\n",
       " Variation & ct\\\\\n",
       "\\hline\n",
       "\t Truncating Mutations & 93                  \\\\\n",
       "\t Deletion             & 74                  \\\\\n",
       "\t Amplification        & 71                  \\\\\n",
       "\t Fusions              & 34                  \\\\\n",
       "\t Overexpression       &  6                  \\\\\n",
       "\t G12V                 &  4                  \\\\\n",
       "\t E17K                 &  3                  \\\\\n",
       "\t Q61H                 &  3                  \\\\\n",
       "\t Q61L                 &  3                  \\\\\n",
       "\t Q61R                 &  3                  \\\\\n",
       "\t T58I                 &  3                  \\\\\n",
       "\t A146T                &  2                  \\\\\n",
       "\t A146V                &  2                  \\\\\n",
       "\t C618R                &  2                  \\\\\n",
       "\t E330K                &  2                  \\\\\n",
       "\t E542K                &  2                  \\\\\n",
       "\t ETV6-NTRK3 Fusion    &  2                  \\\\\n",
       "\t EWSR1-ETV1 Fusion    &  2                  \\\\\n",
       "\t F28L                 &  2                  \\\\\n",
       "\t F384L                &  2                  \\\\\n",
       "\t G12A                 &  2                  \\\\\n",
       "\t G12C                 &  2                  \\\\\n",
       "\t G12D                 &  2                  \\\\\n",
       "\t G12S                 &  2                  \\\\\n",
       "\t G13C                 &  2                  \\\\\n",
       "\t G13D                 &  2                  \\\\\n",
       "\t G13V                 &  2                  \\\\\n",
       "\t G35R                 &  2                  \\\\\n",
       "\t G67R                 &  2                  \\\\\n",
       "\t I31M                 &  2                  \\\\\n",
       "\t ... & ...\\\\\n",
       "\t Y646H               & 1                  \\\\\n",
       "\t Y646N               & 1                  \\\\\n",
       "\t Y646S               & 1                  \\\\\n",
       "\t Y647C               & 1                  \\\\\n",
       "\t Y652H               & 1                  \\\\\n",
       "\t Y65C                & 1                  \\\\\n",
       "\t Y68D                & 1                  \\\\\n",
       "\t Y68H                & 1                  \\\\\n",
       "\t Y69H                & 1                  \\\\\n",
       "\t Y772\\_A775dup        & 1                    \\\\\n",
       "\t Y791F               & 1                  \\\\\n",
       "\t Y801H               & 1                  \\\\\n",
       "\t Y803N               & 1                  \\\\\n",
       "\t Y806C               & 1                  \\\\\n",
       "\t Y823D               & 1                  \\\\\n",
       "\t Y835F               & 1                  \\\\\n",
       "\t Y842C               & 1                  \\\\\n",
       "\t Y846C               & 1                  \\\\\n",
       "\t Y849C               & 1                  \\\\\n",
       "\t Y849S               & 1                  \\\\\n",
       "\t Y87C                & 1                  \\\\\n",
       "\t Y87N                & 1                  \\\\\n",
       "\t Y901C               & 1                  \\\\\n",
       "\t Y931C               & 1                  \\\\\n",
       "\t Y98H                & 1                  \\\\\n",
       "\t Y98N                & 1                  \\\\\n",
       "\t YAP1-FAM118B Fusion & 1                  \\\\\n",
       "\t YAP1-MAMLD1 Fusion  & 1                  \\\\\n",
       "\t ZC3H7B-BCOR Fusion  & 1                  \\\\\n",
       "\t ZNF198-FGFR1 Fusion & 1                  \\\\\n",
       "\\end{tabular}\n"
      ],
      "text/markdown": [
       "\n",
       "| Variation | ct |\n",
       "|---|---|\n",
       "| Truncating Mutations | 93                   |\n",
       "| Deletion             | 74                   |\n",
       "| Amplification        | 71                   |\n",
       "| Fusions              | 34                   |\n",
       "| Overexpression       |  6                   |\n",
       "| G12V                 |  4                   |\n",
       "| E17K                 |  3                   |\n",
       "| Q61H                 |  3                   |\n",
       "| Q61L                 |  3                   |\n",
       "| Q61R                 |  3                   |\n",
       "| T58I                 |  3                   |\n",
       "| A146T                |  2                   |\n",
       "| A146V                |  2                   |\n",
       "| C618R                |  2                   |\n",
       "| E330K                |  2                   |\n",
       "| E542K                |  2                   |\n",
       "| ETV6-NTRK3 Fusion    |  2                   |\n",
       "| EWSR1-ETV1 Fusion    |  2                   |\n",
       "| F28L                 |  2                   |\n",
       "| F384L                |  2                   |\n",
       "| G12A                 |  2                   |\n",
       "| G12C                 |  2                   |\n",
       "| G12D                 |  2                   |\n",
       "| G12S                 |  2                   |\n",
       "| G13C                 |  2                   |\n",
       "| G13D                 |  2                   |\n",
       "| G13V                 |  2                   |\n",
       "| G35R                 |  2                   |\n",
       "| G67R                 |  2                   |\n",
       "| I31M                 |  2                   |\n",
       "| ... | ... |\n",
       "| Y646H               | 1                   |\n",
       "| Y646N               | 1                   |\n",
       "| Y646S               | 1                   |\n",
       "| Y647C               | 1                   |\n",
       "| Y652H               | 1                   |\n",
       "| Y65C                | 1                   |\n",
       "| Y68D                | 1                   |\n",
       "| Y68H                | 1                   |\n",
       "| Y69H                | 1                   |\n",
       "| Y772_A775dup        | 1                   |\n",
       "| Y791F               | 1                   |\n",
       "| Y801H               | 1                   |\n",
       "| Y803N               | 1                   |\n",
       "| Y806C               | 1                   |\n",
       "| Y823D               | 1                   |\n",
       "| Y835F               | 1                   |\n",
       "| Y842C               | 1                   |\n",
       "| Y846C               | 1                   |\n",
       "| Y849C               | 1                   |\n",
       "| Y849S               | 1                   |\n",
       "| Y87C                | 1                   |\n",
       "| Y87N                | 1                   |\n",
       "| Y901C               | 1                   |\n",
       "| Y931C               | 1                   |\n",
       "| Y98H                | 1                   |\n",
       "| Y98N                | 1                   |\n",
       "| YAP1-FAM118B Fusion | 1                   |\n",
       "| YAP1-MAMLD1 Fusion  | 1                   |\n",
       "| ZC3H7B-BCOR Fusion  | 1                   |\n",
       "| ZNF198-FGFR1 Fusion | 1                   |\n",
       "\n"
      ],
      "text/plain": [
       "     Variation            ct \n",
       "1    Truncating Mutations 93 \n",
       "2    Deletion             74 \n",
       "3    Amplification        71 \n",
       "4    Fusions              34 \n",
       "5    Overexpression        6 \n",
       "6    G12V                  4 \n",
       "7    E17K                  3 \n",
       "8    Q61H                  3 \n",
       "9    Q61L                  3 \n",
       "10   Q61R                  3 \n",
       "11   T58I                  3 \n",
       "12   A146T                 2 \n",
       "13   A146V                 2 \n",
       "14   C618R                 2 \n",
       "15   E330K                 2 \n",
       "16   E542K                 2 \n",
       "17   ETV6-NTRK3 Fusion     2 \n",
       "18   EWSR1-ETV1 Fusion     2 \n",
       "19   F28L                  2 \n",
       "20   F384L                 2 \n",
       "21   G12A                  2 \n",
       "22   G12C                  2 \n",
       "23   G12D                  2 \n",
       "24   G12S                  2 \n",
       "25   G13C                  2 \n",
       "26   G13D                  2 \n",
       "27   G13V                  2 \n",
       "28   G35R                  2 \n",
       "29   G67R                  2 \n",
       "30   I31M                  2 \n",
       "...  ...                  ...\n",
       "2967 Y646H                1  \n",
       "2968 Y646N                1  \n",
       "2969 Y646S                1  \n",
       "2970 Y647C                1  \n",
       "2971 Y652H                1  \n",
       "2972 Y65C                 1  \n",
       "2973 Y68D                 1  \n",
       "2974 Y68H                 1  \n",
       "2975 Y69H                 1  \n",
       "2976 Y772_A775dup         1  \n",
       "2977 Y791F                1  \n",
       "2978 Y801H                1  \n",
       "2979 Y803N                1  \n",
       "2980 Y806C                1  \n",
       "2981 Y823D                1  \n",
       "2982 Y835F                1  \n",
       "2983 Y842C                1  \n",
       "2984 Y846C                1  \n",
       "2985 Y849C                1  \n",
       "2986 Y849S                1  \n",
       "2987 Y87C                 1  \n",
       "2988 Y87N                 1  \n",
       "2989 Y901C                1  \n",
       "2990 Y931C                1  \n",
       "2991 Y98H                 1  \n",
       "2992 Y98N                 1  \n",
       "2993 YAP1-FAM118B Fusion  1  \n",
       "2994 YAP1-MAMLD1 Fusion   1  \n",
       "2995 ZC3H7B-BCOR Fusion   1  \n",
       "2996 ZNF198-FGFR1 Fusion  1  "
      ]
     },
     "metadata": {},
     "output_type": "display_data"
    }
   ],
   "source": [
    "#count of variations\n",
    "train %>%\n",
    "  group_by(Variation) %>%\n",
    "  summarise(ct = n()) %>%\n",
    "  arrange(desc(ct))"
   ]
  },
  {
   "cell_type": "code",
   "execution_count": 150,
   "metadata": {},
   "outputs": [
    {
     "data": {
      "text/html": [
       "<table>\n",
       "<thead><tr><th scope=col>Class</th><th scope=col>Variation</th></tr></thead>\n",
       "<tbody>\n",
       "\t<tr><td>1  </td><td>423</td></tr>\n",
       "\t<tr><td>2  </td><td>399</td></tr>\n",
       "\t<tr><td>3  </td><td> 89</td></tr>\n",
       "\t<tr><td>4  </td><td>669</td></tr>\n",
       "\t<tr><td>5  </td><td>242</td></tr>\n",
       "\t<tr><td>6  </td><td>265</td></tr>\n",
       "\t<tr><td>7  </td><td>889</td></tr>\n",
       "\t<tr><td>8  </td><td> 19</td></tr>\n",
       "\t<tr><td>9  </td><td> 37</td></tr>\n",
       "</tbody>\n",
       "</table>\n"
      ],
      "text/latex": [
       "\\begin{tabular}{r|ll}\n",
       " Class & Variation\\\\\n",
       "\\hline\n",
       "\t 1   & 423\\\\\n",
       "\t 2   & 399\\\\\n",
       "\t 3   &  89\\\\\n",
       "\t 4   & 669\\\\\n",
       "\t 5   & 242\\\\\n",
       "\t 6   & 265\\\\\n",
       "\t 7   & 889\\\\\n",
       "\t 8   &  19\\\\\n",
       "\t 9   &  37\\\\\n",
       "\\end{tabular}\n"
      ],
      "text/markdown": [
       "\n",
       "| Class | Variation |\n",
       "|---|---|\n",
       "| 1   | 423 |\n",
       "| 2   | 399 |\n",
       "| 3   |  89 |\n",
       "| 4   | 669 |\n",
       "| 5   | 242 |\n",
       "| 6   | 265 |\n",
       "| 7   | 889 |\n",
       "| 8   |  19 |\n",
       "| 9   |  37 |\n",
       "\n"
      ],
      "text/plain": [
       "  Class Variation\n",
       "1 1     423      \n",
       "2 2     399      \n",
       "3 3      89      \n",
       "4 4     669      \n",
       "5 5     242      \n",
       "6 6     265      \n",
       "7 7     889      \n",
       "8 8      19      \n",
       "9 9      37      "
      ]
     },
     "metadata": {},
     "output_type": "display_data"
    }
   ],
   "source": [
    "#Aggregating genes by class\n",
    "var_per_class<- aggregate(train$Variation, by=list(train$Class),FUN= n_distinct) \n",
    "colnames(var_per_class) = c('Class','Variation')\n",
    "var_per_class"
   ]
  },
  {
   "cell_type": "code",
   "execution_count": 133,
   "metadata": {},
   "outputs": [
    {
     "data": {
      "text/plain": [
       "\n",
       "          1           2           3           4           5           6 \n",
       "0.171032821 0.136103583 0.026799157 0.206564288 0.072869618 0.082806384 \n",
       "          7           8           9 \n",
       "0.286961759 0.005721168 0.011141223 "
      ]
     },
     "metadata": {},
     "output_type": "display_data"
    }
   ],
   "source": [
    "#Checking the proportion of classes in the training dataset\n",
    "#We notice class 7 has a high presence in the data\n",
    "prop.table(table(train$Class))"
   ]
  },
  {
   "cell_type": "markdown",
   "metadata": {},
   "source": [
    "<p>"
   ]
  },
  {
   "cell_type": "markdown",
   "metadata": {},
   "source": [
    "<h1><font color=\"red\"><center id=\"Visualizations\">Visualizations<a class=\"anchor-link\" href=\"#Visualizations\">&#182;</a><center></font></h1>"
   ]
  },
  {
   "cell_type": "code",
   "execution_count": 139,
   "metadata": {},
   "outputs": [
    {
     "data": {
      "image/png": "[encoded data removed]",
      "text/plain": [
       "plot without title"
      ]
     },
     "metadata": {},
     "output_type": "display_data"
    }
   ],
   "source": [
    "#frequency distribution of the most frequent Gene values\n",
    "options(repr.plot.width=6, repr.plot.height=4)\n",
    "gene <- train %>%\n",
    "  group_by(Gene) %>%\n",
    "  summarise(cntg = n()) %>%\n",
    "  arrange(desc(cntg)) %>%\n",
    "  filter(cntg>59)\n",
    "gene %>%\n",
    "  ggplot(aes(reorder(Gene, -cntg, FUN = min), cntg)) +\n",
    "  geom_point(size = 3, color='darkblue') +\n",
    "  labs(x = \"Gene\", y = \"Frequency\") +\n",
    "  coord_flip() +\n",
    "  ggtitle(\"Frequency Distribution of Genes\") "
   ]
  },
  {
   "cell_type": "code",
   "execution_count": 140,
   "metadata": {},
   "outputs": [
    {
     "data": {
      "image/png": "[encoded data removed]",
      "text/plain": [
       "plot without title"
      ]
     },
     "metadata": {},
     "output_type": "display_data"
    }
   ],
   "source": [
    "#frequency distribution of the most frequent Variation values\n",
    "variation <- train %>%\n",
    "  group_by(Variation) %>%\n",
    "  summarise(cntv = n()) %>%\n",
    "  arrange(desc(cntv)) %>%\n",
    "  filter(cntv>2)\n",
    "\n",
    "variation %>%\n",
    "  ggplot(aes(reorder(Variation, -cntv, FUN = min), cntv)) +\n",
    "  geom_point(size = 3, color='darkred') +\n",
    "  labs(x = \"Variation\", y = \"Frequency\") +\n",
    "  coord_flip() +\n",
    "  ggtitle(\"Frequency Distribution of Variations\")"
   ]
  },
  {
   "cell_type": "code",
   "execution_count": 38,
   "metadata": {},
   "outputs": [
    {
     "name": "stderr",
     "output_type": "stream",
     "text": [
      "Joining, by = c(\"ID\", \"Gene\", \"Variation\", \"Class\", \"set\")\n"
     ]
    },
    {
     "data": {
      "image/png": "[encoded data removed]",
      "text/plain": [
       "plot without title"
      ]
     },
     "metadata": {},
     "output_type": "display_data"
    }
   ],
   "source": [
    "#joining train and test sets\n",
    "#most frequent Variations in the train vs test data\n",
    "train1<- train %>% mutate(set = factor(\"train\")) \n",
    "test1 <- test %>% mutate(set = factor(\"test\"))\n",
    "joindf <- suppressWarnings(full_join(train1, test1))\n",
    "\n",
    "joindf %>%\n",
    "  group_by(Variation, set) %>%\n",
    "  summarise(ct = n()) %>%\n",
    "  filter(ct > 2) %>%\n",
    "  ggplot(aes(reorder(Variation, -ct, FUN = median), ct, colour = set)) +\n",
    "  geom_point(size = 3) +\n",
    "  coord_cartesian(ylim = c(0, 100), xlim=c(0,5)) +\n",
    "  labs(x = \"Variation\", y = \"Frequency\") +\n",
    "  ggtitle(\"Top Variations for Train & Test\")"
   ]
  },
  {
   "cell_type": "code",
   "execution_count": 39,
   "metadata": {},
   "outputs": [
    {
     "data": {
      "image/png": "[encoded data removed]",
      "text/plain": [
       "plot without title"
      ]
     },
     "metadata": {},
     "output_type": "display_data"
    }
   ],
   "source": [
    "#most frequent Genes in the train vs test data\n",
    "joindf %>%\n",
    "  group_by(Gene, set) %>%\n",
    "  summarise(ct = n()) %>%\n",
    "  filter(ct > 2) %>%\n",
    "  ggplot(aes(reorder(Gene, -ct, FUN = median), ct, colour = set)) +\n",
    "  geom_point(size = 3) +\n",
    "  coord_cartesian(ylim = c(0, 200), xlim=c(0,7)) +\n",
    "  labs(x = \"Gene\", y = \"Frequency\") +\n",
    "  ggtitle(\"Most frequent Genes for Train & Test\")"
   ]
  },
  {
   "cell_type": "code",
   "execution_count": 40,
   "metadata": {},
   "outputs": [
    {
     "data": {
      "text/html": [
       "TRUE"
      ],
      "text/latex": [
       "TRUE"
      ],
      "text/markdown": [
       "TRUE"
      ],
      "text/plain": [
       "[1] TRUE"
      ]
     },
     "metadata": {},
     "output_type": "display_data"
    },
    {
     "data": {
      "image/png": "[encoded data removed]",
      "text/plain": [
       "plot without title"
      ]
     },
     "metadata": {},
     "output_type": "display_data"
    }
   ],
   "source": [
    "#Class distribution\n",
    "cbbPalette <- c(\"#000000\", \"#E69F00\", \"#56B4E9\", \"#009E73\", \"#F0E442\", \"#0072B2\", \"#D55E00\", \"#CC79A7\")\n",
    "train %>%\n",
    "  ggplot(aes(Class)) +\n",
    "  geom_bar(fill=\"#E69F00\") +\n",
    "  ggtitle(\"Class distribution\")\n",
    "#We notice that most instances are observed in the class 7. While the least frequesnt instances are in the classes \n",
    "8 & 9. "
   ]
  },
  {
   "cell_type": "code",
   "execution_count": 41,
   "metadata": {},
   "outputs": [
    {
     "data": {
      "image/png": "[encoded data removed]",
      "text/plain": [
       "plot without title"
      ]
     },
     "metadata": {},
     "output_type": "display_data"
    }
   ],
   "source": [
    "#variables relationships\n",
    "#frequency distribution of the most frequent Genes for the different Classes\n",
    "train %>%\n",
    "  filter(Gene %in% str_c(gene$Gene)) %>%\n",
    "  ggplot(aes(Gene)) +\n",
    "  geom_bar(fill=\"#009E73\") +\n",
    "  scale_y_log10() +\n",
    "  theme(axis.text.x  = element_text(angle=90, vjust=0.5, size=7)) +\n",
    "  facet_wrap(~ Class) +\n",
    "  ggtitle(\"Gene distribution per class\")\n",
    "#First thing we notice is that classes 8 & 9 have none of the most frequest genes.\n",
    "#Some genes dominate in one classes while alomost absent in others. In particuler, EGFR is mostly present in 2 & 7 classes.\n",
    "#PTEN dominates in class 4.TP53 is predominantly present in class 1 & 4."
   ]
  },
  {
   "cell_type": "code",
   "execution_count": 34,
   "metadata": {},
   "outputs": [
    {
     "data": {
      "image/png": "[encoded data removed]",
      "text/plain": [
       "plot without title"
      ]
     },
     "metadata": {},
     "output_type": "display_data"
    }
   ],
   "source": [
    "train %>%\n",
    "  filter(Variation %in% str_c(variation$Variation)) %>%\n",
    "  ggplot(aes(Variation)) +\n",
    "  geom_bar(fill=\"#CC79A7\") +\n",
    "  scale_y_log10() +\n",
    "  theme(axis.text.x  = element_text(angle=90, vjust=0.5, size=7)) +\n",
    "  facet_wrap(~ Class) +\n",
    "  ggtitle(\"Variation distribution per class\")\n",
    "# From the following graph, we observe:\n",
    "#Truncating mutations are mainly represented in the class 1. \n",
    "#Fusions dominate in the class 2.\n",
    "# Class 8 doesnt contain any of the most frequent variations."
   ]
  },
  {
   "cell_type": "code",
   "execution_count": 35,
   "metadata": {},
   "outputs": [
    {
     "data": {
      "image/png": "[encoded data removed]",
      "text/plain": [
       "plot without title"
      ]
     },
     "metadata": {},
     "output_type": "display_data"
    }
   ],
   "source": [
    "#Classes sorted by Genes \n",
    "train %>%\n",
    "  filter(Gene %in% str_c(gene$Gene)) %>%\n",
    "  ggplot(aes(Class)) +\n",
    "  geom_bar(fill=\"#000000\") +\n",
    "  scale_y_log10() +\n",
    "  facet_wrap(~ Gene) +\n",
    "  ggtitle(\"Classes per Gene\")\n",
    "#ALK is represented in 2,3,5,7 classes\n",
    "#BRAF is represented in 2,4,5,6,7 classes\n",
    "#BRCA1 is uniformly destributed amonth 1,3,4,5,6 classes\n",
    "#BRCA2 is present in 2,4,5,7 classes\n",
    "#ERBB2 dominates in 2,4,5,6,7 classes\n",
    "#KIT is shared between 2 classes: 2 & 7\n",
    "#PDGFRA is observed in the classes 2,3,5,7\n",
    "#PTEN dominates in the class 4 but is also present in 1,3,5\n",
    "#TP53 is prediminantly present in 1 and 4 but is also observed in 2,3,5,6"
   ]
  },
  {
   "cell_type": "code",
   "execution_count": 42,
   "metadata": {},
   "outputs": [
    {
     "data": {
      "image/png": "[encoded data removed]",
      "text/plain": [
       "plot without title"
      ]
     },
     "metadata": {},
     "output_type": "display_data"
    }
   ],
   "source": [
    "train %>%\n",
    "  filter(Variation %in% str_c(variation$Variation)) %>%\n",
    "  ggplot(aes(Class)) +\n",
    "  geom_bar(fill=\"#CC79A7\") +\n",
    "  scale_y_log10() +\n",
    "  facet_wrap(~ Variation) +\n",
    "  ggtitle(\"Classes per Variation\") \n",
    "#This illustration demontrates presence of the most frequent variations in classes."
   ]
  },
  {
   "cell_type": "markdown",
   "metadata": {},
   "source": [
    "<h1><font color=\"red\"><center id=\"Text exploration\">Text exploration<a class=\"anchor-link\" href=\"#Text exploration\">&#182;</a><center></font></h1>"
   ]
  },
  {
   "cell_type": "code",
   "execution_count": 122,
   "metadata": {},
   "outputs": [],
   "source": [
    "#Reading in the text files\n",
    "train.txt <- readLines(\"training_text\")\n",
    "test.txt <-readLines(\"test_text\")"
   ]
  },
  {
   "cell_type": "code",
   "execution_count": null,
   "metadata": {},
   "outputs": [],
   "source": [
    "#Separating the columns in a structure of a dataframe\n",
    "train.txt <- str_split_fixed(train.txt[2:length(train.txt)], \"\\\\|\\\\|\",2)  \n",
    "train.txt<-data_frame(ID=train.txt[,1], text=train.txt[,2])\n",
    "\n",
    "test.txt <-str_split_fixed(test.txt[2:length(test.txt)], \"\\\\|\\\\|\",2)\n",
    "test.txt <- data_frame(ID=test.txt[,1], text=test.txt[,2])"
   ]
  },
  {
   "cell_type": "markdown",
   "metadata": {},
   "source": [
    "Overview of text data"
   ]
  },
  {
   "cell_type": "code",
   "execution_count": 126,
   "metadata": {},
   "outputs": [
    {
     "data": {
      "text/plain": [
       "      ID                text              txt.len      \n",
       " Length:3321        Length:3321        Min.   :     5  \n",
       " Class :character   Class :character   1st Qu.: 31452  \n",
       " Mode  :character   Mode  :character   Median : 46294  \n",
       "                                       Mean   : 63867  \n",
       "                                       3rd Qu.: 80349  \n",
       "                                       Max.   :525742  "
      ]
     },
     "metadata": {},
     "output_type": "display_data"
    }
   ],
   "source": [
    "train.txt %>%\n",
    "  mutate(txt.len=str_length(text)) %>%\n",
    "  summary()"
   ]
  },
  {
   "cell_type": "code",
   "execution_count": 127,
   "metadata": {},
   "outputs": [
    {
     "data": {
      "text/html": [
       "<table>\n",
       "<thead><tr><th scope=col>ID</th><th scope=col>text</th><th scope=col>txt.len</th></tr></thead>\n",
       "<tbody>\n",
       "\t<tr><td>1109 </td><td>null </td><td>5    </td></tr>\n",
       "\t<tr><td>1277 </td><td>null </td><td>5    </td></tr>\n",
       "\t<tr><td>1407 </td><td>null </td><td>5    </td></tr>\n",
       "\t<tr><td>1639 </td><td>null </td><td>5    </td></tr>\n",
       "\t<tr><td>2755 </td><td>null </td><td>5    </td></tr>\n",
       "</tbody>\n",
       "</table>\n"
      ],
      "text/latex": [
       "\\begin{tabular}{r|lll}\n",
       " ID & text & txt.len\\\\\n",
       "\\hline\n",
       "\t 1109  & null  & 5    \\\\\n",
       "\t 1277  & null  & 5    \\\\\n",
       "\t 1407  & null  & 5    \\\\\n",
       "\t 1639  & null  & 5    \\\\\n",
       "\t 2755  & null  & 5    \\\\\n",
       "\\end{tabular}\n"
      ],
      "text/markdown": [
       "\n",
       "| ID | text | txt.len |\n",
       "|---|---|---|\n",
       "| 1109  | null  | 5     |\n",
       "| 1277  | null  | 5     |\n",
       "| 1407  | null  | 5     |\n",
       "| 1639  | null  | 5     |\n",
       "| 2755  | null  | 5     |\n",
       "\n"
      ],
      "text/plain": [
       "  ID   text  txt.len\n",
       "1 1109 null  5      \n",
       "2 1277 null  5      \n",
       "3 1407 null  5      \n",
       "4 1639 null  5      \n",
       "5 2755 null  5      "
      ]
     },
     "metadata": {},
     "output_type": "display_data"
    }
   ],
   "source": [
    "train.txt %>%\n",
    "  mutate(txt.len=str_length(text)) %>%\n",
    "  filter(txt.len<=50) %>%\n",
    "  select(ID, text, txt.len)"
   ]
  },
  {
   "cell_type": "code",
   "execution_count": 128,
   "metadata": {},
   "outputs": [
    {
     "data": {
      "text/plain": [
       "      ID                text              txt.len      \n",
       " Length:367         Length:367         Min.   :     5  \n",
       " Class :character   Class :character   1st Qu.: 30994  \n",
       " Mode  :character   Mode  :character   Median : 49007  \n",
       "                                       Mean   : 67335  \n",
       "                                       3rd Qu.: 82514  \n",
       "                                       Max.   :489305  "
      ]
     },
     "metadata": {},
     "output_type": "display_data"
    }
   ],
   "source": [
    "test.txt %>%\n",
    "  mutate(txt.len=str_length(text)) %>%\n",
    "  summary()"
   ]
  },
  {
   "cell_type": "code",
   "execution_count": 129,
   "metadata": {},
   "outputs": [
    {
     "data": {
      "text/html": [
       "<table>\n",
       "<thead><tr><th scope=col>ID</th><th scope=col>text</th><th scope=col>txt.len</th></tr></thead>\n",
       "<tbody>\n",
       "\t<tr><td>67   </td><td>null </td><td>5    </td></tr>\n",
       "</tbody>\n",
       "</table>\n"
      ],
      "text/latex": [
       "\\begin{tabular}{r|lll}\n",
       " ID & text & txt.len\\\\\n",
       "\\hline\n",
       "\t 67    & null  & 5    \\\\\n",
       "\\end{tabular}\n"
      ],
      "text/markdown": [
       "\n",
       "| ID | text | txt.len |\n",
       "|---|---|---|\n",
       "| 67    | null  | 5     |\n",
       "\n"
      ],
      "text/plain": [
       "  ID text  txt.len\n",
       "1 67 null  5      "
      ]
     },
     "metadata": {},
     "output_type": "display_data"
    }
   ],
   "source": [
    "test.txt %>%\n",
    "  mutate(txt.len=str_length(text)) %>%\n",
    "  filter(txt.len<=100) %>%\n",
    "  select(ID, text, txt.len)"
   ]
  },
  {
   "cell_type": "code",
   "execution_count": 59,
   "metadata": {},
   "outputs": [
    {
     "data": {
      "image/png": "[encoded data removed]",
      "text/plain": [
       "plot without title"
      ]
     },
     "metadata": {},
     "output_type": "display_data"
    }
   ],
   "source": [
    "#frequency of occurance of  \"pathogenic\" and \"benign\" \n",
    "train.txt <- train.txt %>%\n",
    "  mutate(pathogenic = str_count(text, \"pathogenic\"),\n",
    "         benign = str_count(text, \"benign\"))\n",
    "temp <- train %>%\n",
    "  select(ID, Class)\n",
    "train.txt$ID<-as.numeric(train.txt$ID)\n",
    "\n",
    "df<-left_join(train.txt, temp, by = \"ID\") %>%\n",
    "  ggplot(aes(pathogenic)) +\n",
    "  geom_bar(width = 3,fill=\"#009E73\") +\n",
    "  scale_y_log10() +\n",
    "  facet_wrap(~ Class) +\n",
    "  coord_cartesian(xlim=c(0,100)) +\n",
    "  ggtitle(\"Distribution of pathogenic in classes\")\n",
    "\n",
    "c\n",
    "\n",
    "#\"Pathogenic\" isn't traced in classes 8 and 9. However, classes 1 and 4 have the highest frequency of the word \"pathogenic\".\n",
    "#Other classes depict \"its\"pathogenic\" presence in different amounts."
   ]
  },
  {
   "cell_type": "code",
   "execution_count": 63,
   "metadata": {},
   "outputs": [
    {
     "data": {
      "image/png": "[encoded data removed]",
      "text/plain": [
       "plot without title"
      ]
     },
     "metadata": {},
     "output_type": "display_data"
    }
   ],
   "source": [
    "#Now let's plot a ratio of the mean occurence of the word \"pathogenic\" over the mean occurence of the word \"benign\" and VS\n",
    "\n",
    "sp<-full_join(train.txt, temp, by = \"ID\") %>%\n",
    "  group_by(Class) %>%\n",
    "  summarise(ratio1 = mean(pathogenic)/mean(benign)) %>%\n",
    "  ggplot(aes(reorder(Class, -ratio1, FUN = max), ratio1)) +\n",
    "  geom_point(colour = \"darkblue\", size = 5) +\n",
    "  labs(x = \"Class\") +\n",
    "  ggtitle(\"'Pathogenic'/'Benign' Ratio\")\n",
    "\n",
    "bp<-full_join(train.txt, temp, by = \"ID\") %>%\n",
    "  group_by(Class) %>%\n",
    "  summarise(ratio2 = mean(benign)/mean(pathogenic)) %>%\n",
    "  ggplot(aes(reorder(Class, -ratio2, FUN = max), ratio2)) +\n",
    "  geom_point(colour = \"red\", size = 5) +\n",
    "  labs(x = \"Class\") +\n",
    "  ggtitle(\"'Benign'/'Pathogenic' Ratio\")\n",
    "\n",
    "figure<-ggarrange(sp, bp + font(\"x.text\", size = 10),\n",
    "                    ncol = 1, nrow = 2)\n",
    "figure\n",
    "#The word 'pathogenic' has the highest count in classes 6,5,3,4,1, while the least count in classes 2,9,7,8\n",
    "#VS for the word \"benign\"."
   ]
  },
  {
   "cell_type": "markdown",
   "metadata": {},
   "source": [
    "<h1><font color=\"red\"><center id=\"TF (Term Frequency)\">TF (Term Frequency)<a class=\"anchor-link\" href=\"#TF (Term Frequency)\">&#182;</a><center></font></h1>"
   ]
  },
  {
   "cell_type": "code",
   "execution_count": 66,
   "metadata": {},
   "outputs": [
    {
     "data": {
      "image/png": "[encoded data removed]",
      "text/plain": [
       "plot without title"
      ]
     },
     "metadata": {},
     "output_type": "display_data"
    }
   ],
   "source": [
    "# First of all we need to break the text into individual tokens (so called tokenization) and transform it to a tidy data \n",
    "# structure. We will use tidytext’s unnest_tokens() function for that.\n",
    "data1 <- train.txt %>% select(ID, text) %>% unnest_tokens(word, text)\n",
    "#The tidytext package contains a dictionary of stop words, like \"and\" or \"next\", which we dont want in our data. \n",
    "# Additionally, we will remove numbers and symbols.\n",
    "data(\"stop_words\")\n",
    "#Removing stop words and converting the words to its root form\n",
    "data2 <- data1 %>%\n",
    "  anti_join(stop_words, by = \"word\") %>%\n",
    "  mutate(word = wordStem(word)) %>%\n",
    "  filter(str_detect(word, \"[a-z]\"))\n",
    "\n",
    "#most popular words count\n",
    "data2 %>%\n",
    "  count(word) %>%\n",
    "  filter(n > 5e4) %>%\n",
    "  mutate(word = reorder(word, n)) %>%\n",
    "  ggplot(aes(word, n)) +\n",
    "  coord_flip() +\n",
    "  geom_col(fill=\"#E69F00\") +\n",
    "  ggtitle(\"Most frequent word stems\")"
   ]
  },
  {
   "cell_type": "code",
   "execution_count": 71,
   "metadata": {},
   "outputs": [
    {
     "data": {
      "image/png": "[encoded data removed]",
      "text/plain": [
       "plot without title"
      ]
     },
     "metadata": {},
     "output_type": "display_data"
    }
   ],
   "source": [
    "#Here we use a wordcloud to visualize TF\n",
    "set.seed(1234)\n",
    "options(repr.plot.width=8, repr.plot.height=6)\n",
    "data2 %>% \n",
    "  count(word) %>%\n",
    "  with(wordcloud(word, freq = n, min.freq = 1,\n",
    "                 max.words=200, random.order=FALSE, rot.per=0.35, \n",
    "                 colors=brewer.pal(8, \"Dark2\")))"
   ]
  },
  {
   "cell_type": "code",
   "execution_count": 165,
   "metadata": {},
   "outputs": [
    {
     "data": {
      "image/png": "[encoded data removed]",
      "text/plain": [
       "plot without title"
      ]
     },
     "metadata": {},
     "output_type": "display_data"
    }
   ],
   "source": [
    "#The bind_tf_idf function in the tidytext package will help us define how many times each Class contains each term\n",
    "frequency <-full_join(data2, train, by = \"ID\") %>%\n",
    "  count(Class, word)\n",
    "options(repr.plot.width=6, repr.plot.height=4)\n",
    "tf_idf <- frequency %>%\n",
    "  bind_tf_idf(word, Class, n)\n",
    "# The next graph demonstrates the terms with the highest count throughout all classes\n",
    "# Class 8 has the highest number of dnmt3b7 and k42a. They are followed by the class 8 and its most frequent terms like\n",
    "#2hg,u2af35 etc. \n",
    "tf_idf %>%\n",
    "  arrange(desc(tf_idf)) %>%\n",
    "  mutate(word = factor(word, levels = rev(unique(word)))) %>%\n",
    "  top_n(15, tf_idf) %>%\n",
    "  ggplot(aes(word, tf_idf, fill = Class)) +\n",
    "  geom_col() +\n",
    "  labs(x = NULL, y = \"count\") +\n",
    "  coord_flip()"
   ]
  },
  {
   "cell_type": "code",
   "execution_count": 166,
   "metadata": {},
   "outputs": [
    {
     "data": {
      "image/png": "[encoded data removed]",
      "text/plain": [
       "plot without title"
      ]
     },
     "metadata": {},
     "output_type": "display_data"
    }
   ],
   "source": [
    "# The following visualization shows the most frequent words per each Class  \n",
    "  tf_idf %>%\n",
    "  arrange(desc(tf_idf)) %>%\n",
    "  mutate(word = factor(word, levels = rev(unique(word)))) %>%\n",
    "  group_by(Class) %>%\n",
    "  top_n(7, tf_idf) %>%\n",
    "  ggplot(aes(word, tf_idf, fill = Class)) +\n",
    "  labs(y = \"count\") +\n",
    "  facet_wrap(~ Class, ncol = 3, scales = \"free\") +\n",
    "  geom_col() +\n",
    "  coord_flip()"
   ]
  },
  {
   "cell_type": "code",
   "execution_count": 171,
   "metadata": {},
   "outputs": [
    {
     "data": {
      "image/png": "[encoded data removed]",
      "text/plain": [
       "plot without title"
      ]
     },
     "metadata": {},
     "output_type": "display_data"
    }
   ],
   "source": [
    "#Grouping the text as per the classes\n",
    "frequency <- full_join(data2, train, by = \"ID\")%>%\n",
    "  count(Class, word) %>%\n",
    "  group_by(Class) %>%\n",
    "  mutate(proportion = n / sum(n)) %>% \n",
    "  select(-n) %>% \n",
    "  spread(Class, proportion) %>% \n",
    "  gather(Class, proportion, `2`,`6`)\n",
    "\n",
    "#Visualizing class 7 word frequency versus classes 2 and 6\n",
    "#We notice the words 'mutat' and 'activ' most frequently occur in all 3 classes\n",
    "#Comparing the class 7 with class 2 , the words 'alk' and 'acid' occur frequently in both classes \n",
    "image<-ggplot(frequency,aes(x=frequency$proportion, y = `7`, color = abs(`7`- frequency$proportion ))) +\n",
    "  geom_abline(color = \"blue\", lty = 2) +\n",
    "  geom_jitter(alpha = 0.1, size = 2.5, width = 0.1, height = 0.1) +\n",
    "  geom_text(aes(label = word), check_overlap = TRUE, vjust = 1.5) +\n",
    "  scale_x_log10(labels = percent_format()) +\n",
    "  scale_y_log10(labels = percent_format()) +\n",
    "  scale_color_gradient(limits = c(0, 0.001), low = \"darkslategray4\", high = \"gray75\") +\n",
    "  facet_wrap(facets = ~ Class, ncol=2) +\n",
    "  theme(legend.position=\"none\") +\n",
    "  labs(y = \"Class 7\", x = \"Class 2 & Class 6\")\n",
    "suppressWarnings(print(image))"
   ]
  },
  {
   "cell_type": "markdown",
   "metadata": {},
   "source": [
    "<h1><font color=\"red\"><center id=\"Sentiment Analysis\">Sentiment Analysis<a class=\"anchor-link\" href=\"#Sentiment Analysis\">&#182;</a><center></font></h1>"
   ]
  },
  {
   "cell_type": "code",
   "execution_count": 172,
   "metadata": {},
   "outputs": [
    {
     "data": {
      "text/html": [
       "<table>\n",
       "<thead><tr><th scope=col>word</th><th scope=col>score</th></tr></thead>\n",
       "<tbody>\n",
       "\t<tr><td>abandon   </td><td>-2        </td></tr>\n",
       "\t<tr><td>abandoned </td><td>-2        </td></tr>\n",
       "\t<tr><td>abandons  </td><td>-2        </td></tr>\n",
       "\t<tr><td>abducted  </td><td>-2        </td></tr>\n",
       "\t<tr><td>abduction </td><td>-2        </td></tr>\n",
       "\t<tr><td>abductions</td><td>-2        </td></tr>\n",
       "\t<tr><td>abhor     </td><td>-3        </td></tr>\n",
       "\t<tr><td>abhorred  </td><td>-3        </td></tr>\n",
       "\t<tr><td>abhorrent </td><td>-3        </td></tr>\n",
       "\t<tr><td>abhors    </td><td>-3        </td></tr>\n",
       "\t<tr><td>abilities </td><td> 2        </td></tr>\n",
       "\t<tr><td>ability   </td><td> 2        </td></tr>\n",
       "\t<tr><td>aboard    </td><td> 1        </td></tr>\n",
       "\t<tr><td>absentee  </td><td>-1        </td></tr>\n",
       "\t<tr><td>absentees </td><td>-1        </td></tr>\n",
       "\t<tr><td>absolve   </td><td> 2        </td></tr>\n",
       "\t<tr><td>absolved  </td><td> 2        </td></tr>\n",
       "\t<tr><td>absolves  </td><td> 2        </td></tr>\n",
       "\t<tr><td>absolving </td><td> 2        </td></tr>\n",
       "\t<tr><td>absorbed  </td><td> 1        </td></tr>\n",
       "\t<tr><td>abuse     </td><td>-3        </td></tr>\n",
       "\t<tr><td>abused    </td><td>-3        </td></tr>\n",
       "\t<tr><td>abuses    </td><td>-3        </td></tr>\n",
       "\t<tr><td>abusive   </td><td>-3        </td></tr>\n",
       "\t<tr><td>accept    </td><td> 1        </td></tr>\n",
       "\t<tr><td>accepted  </td><td> 1        </td></tr>\n",
       "\t<tr><td>accepting </td><td> 1        </td></tr>\n",
       "\t<tr><td>accepts   </td><td> 1        </td></tr>\n",
       "\t<tr><td>accident  </td><td>-2        </td></tr>\n",
       "\t<tr><td>accidental</td><td>-2        </td></tr>\n",
       "\t<tr><td>...</td><td>...</td></tr>\n",
       "\t<tr><td>worry    </td><td>-3       </td></tr>\n",
       "\t<tr><td>worrying </td><td>-3       </td></tr>\n",
       "\t<tr><td>worse    </td><td>-3       </td></tr>\n",
       "\t<tr><td>worsen   </td><td>-3       </td></tr>\n",
       "\t<tr><td>worsened </td><td>-3       </td></tr>\n",
       "\t<tr><td>worsening</td><td>-3       </td></tr>\n",
       "\t<tr><td>worsens  </td><td>-3       </td></tr>\n",
       "\t<tr><td>worshiped</td><td> 3       </td></tr>\n",
       "\t<tr><td>worst    </td><td>-3       </td></tr>\n",
       "\t<tr><td>worth    </td><td> 2       </td></tr>\n",
       "\t<tr><td>worthless</td><td>-2       </td></tr>\n",
       "\t<tr><td>worthy   </td><td> 2       </td></tr>\n",
       "\t<tr><td>wow      </td><td> 4       </td></tr>\n",
       "\t<tr><td>wowow    </td><td> 4       </td></tr>\n",
       "\t<tr><td>wowww    </td><td> 4       </td></tr>\n",
       "\t<tr><td>wrathful </td><td>-3       </td></tr>\n",
       "\t<tr><td>wreck    </td><td>-2       </td></tr>\n",
       "\t<tr><td>wrong    </td><td>-2       </td></tr>\n",
       "\t<tr><td>wronged  </td><td>-2       </td></tr>\n",
       "\t<tr><td>wtf      </td><td>-4       </td></tr>\n",
       "\t<tr><td>yeah     </td><td> 1       </td></tr>\n",
       "\t<tr><td>yearning </td><td> 1       </td></tr>\n",
       "\t<tr><td>yeees    </td><td> 2       </td></tr>\n",
       "\t<tr><td>yes      </td><td> 1       </td></tr>\n",
       "\t<tr><td>youthful </td><td> 2       </td></tr>\n",
       "\t<tr><td>yucky    </td><td>-2       </td></tr>\n",
       "\t<tr><td>yummy    </td><td> 3       </td></tr>\n",
       "\t<tr><td>zealot   </td><td>-2       </td></tr>\n",
       "\t<tr><td>zealots  </td><td>-2       </td></tr>\n",
       "\t<tr><td>zealous  </td><td> 2       </td></tr>\n",
       "</tbody>\n",
       "</table>\n"
      ],
      "text/latex": [
       "\\begin{tabular}{r|ll}\n",
       " word & score\\\\\n",
       "\\hline\n",
       "\t abandon    & -2        \\\\\n",
       "\t abandoned  & -2        \\\\\n",
       "\t abandons   & -2        \\\\\n",
       "\t abducted   & -2        \\\\\n",
       "\t abduction  & -2        \\\\\n",
       "\t abductions & -2        \\\\\n",
       "\t abhor      & -3        \\\\\n",
       "\t abhorred   & -3        \\\\\n",
       "\t abhorrent  & -3        \\\\\n",
       "\t abhors     & -3        \\\\\n",
       "\t abilities  &  2        \\\\\n",
       "\t ability    &  2        \\\\\n",
       "\t aboard     &  1        \\\\\n",
       "\t absentee   & -1        \\\\\n",
       "\t absentees  & -1        \\\\\n",
       "\t absolve    &  2        \\\\\n",
       "\t absolved   &  2        \\\\\n",
       "\t absolves   &  2        \\\\\n",
       "\t absolving  &  2        \\\\\n",
       "\t absorbed   &  1        \\\\\n",
       "\t abuse      & -3        \\\\\n",
       "\t abused     & -3        \\\\\n",
       "\t abuses     & -3        \\\\\n",
       "\t abusive    & -3        \\\\\n",
       "\t accept     &  1        \\\\\n",
       "\t accepted   &  1        \\\\\n",
       "\t accepting  &  1        \\\\\n",
       "\t accepts    &  1        \\\\\n",
       "\t accident   & -2        \\\\\n",
       "\t accidental & -2        \\\\\n",
       "\t ... & ...\\\\\n",
       "\t worry     & -3       \\\\\n",
       "\t worrying  & -3       \\\\\n",
       "\t worse     & -3       \\\\\n",
       "\t worsen    & -3       \\\\\n",
       "\t worsened  & -3       \\\\\n",
       "\t worsening & -3       \\\\\n",
       "\t worsens   & -3       \\\\\n",
       "\t worshiped &  3       \\\\\n",
       "\t worst     & -3       \\\\\n",
       "\t worth     &  2       \\\\\n",
       "\t worthless & -2       \\\\\n",
       "\t worthy    &  2       \\\\\n",
       "\t wow       &  4       \\\\\n",
       "\t wowow     &  4       \\\\\n",
       "\t wowww     &  4       \\\\\n",
       "\t wrathful  & -3       \\\\\n",
       "\t wreck     & -2       \\\\\n",
       "\t wrong     & -2       \\\\\n",
       "\t wronged   & -2       \\\\\n",
       "\t wtf       & -4       \\\\\n",
       "\t yeah      &  1       \\\\\n",
       "\t yearning  &  1       \\\\\n",
       "\t yeees     &  2       \\\\\n",
       "\t yes       &  1       \\\\\n",
       "\t youthful  &  2       \\\\\n",
       "\t yucky     & -2       \\\\\n",
       "\t yummy     &  3       \\\\\n",
       "\t zealot    & -2       \\\\\n",
       "\t zealots   & -2       \\\\\n",
       "\t zealous   &  2       \\\\\n",
       "\\end{tabular}\n"
      ],
      "text/markdown": [
       "\n",
       "| word | score |\n",
       "|---|---|\n",
       "| abandon    | -2         |\n",
       "| abandoned  | -2         |\n",
       "| abandons   | -2         |\n",
       "| abducted   | -2         |\n",
       "| abduction  | -2         |\n",
       "| abductions | -2         |\n",
       "| abhor      | -3         |\n",
       "| abhorred   | -3         |\n",
       "| abhorrent  | -3         |\n",
       "| abhors     | -3         |\n",
       "| abilities  |  2         |\n",
       "| ability    |  2         |\n",
       "| aboard     |  1         |\n",
       "| absentee   | -1         |\n",
       "| absentees  | -1         |\n",
       "| absolve    |  2         |\n",
       "| absolved   |  2         |\n",
       "| absolves   |  2         |\n",
       "| absolving  |  2         |\n",
       "| absorbed   |  1         |\n",
       "| abuse      | -3         |\n",
       "| abused     | -3         |\n",
       "| abuses     | -3         |\n",
       "| abusive    | -3         |\n",
       "| accept     |  1         |\n",
       "| accepted   |  1         |\n",
       "| accepting  |  1         |\n",
       "| accepts    |  1         |\n",
       "| accident   | -2         |\n",
       "| accidental | -2         |\n",
       "| ... | ... |\n",
       "| worry     | -3        |\n",
       "| worrying  | -3        |\n",
       "| worse     | -3        |\n",
       "| worsen    | -3        |\n",
       "| worsened  | -3        |\n",
       "| worsening | -3        |\n",
       "| worsens   | -3        |\n",
       "| worshiped |  3        |\n",
       "| worst     | -3        |\n",
       "| worth     |  2        |\n",
       "| worthless | -2        |\n",
       "| worthy    |  2        |\n",
       "| wow       |  4        |\n",
       "| wowow     |  4        |\n",
       "| wowww     |  4        |\n",
       "| wrathful  | -3        |\n",
       "| wreck     | -2        |\n",
       "| wrong     | -2        |\n",
       "| wronged   | -2        |\n",
       "| wtf       | -4        |\n",
       "| yeah      |  1        |\n",
       "| yearning  |  1        |\n",
       "| yeees     |  2        |\n",
       "| yes       |  1        |\n",
       "| youthful  |  2        |\n",
       "| yucky     | -2        |\n",
       "| yummy     |  3        |\n",
       "| zealot    | -2        |\n",
       "| zealots   | -2        |\n",
       "| zealous   |  2        |\n",
       "\n"
      ],
      "text/plain": [
       "     word       score\n",
       "1    abandon    -2   \n",
       "2    abandoned  -2   \n",
       "3    abandons   -2   \n",
       "4    abducted   -2   \n",
       "5    abduction  -2   \n",
       "6    abductions -2   \n",
       "7    abhor      -3   \n",
       "8    abhorred   -3   \n",
       "9    abhorrent  -3   \n",
       "10   abhors     -3   \n",
       "11   abilities   2   \n",
       "12   ability     2   \n",
       "13   aboard      1   \n",
       "14   absentee   -1   \n",
       "15   absentees  -1   \n",
       "16   absolve     2   \n",
       "17   absolved    2   \n",
       "18   absolves    2   \n",
       "19   absolving   2   \n",
       "20   absorbed    1   \n",
       "21   abuse      -3   \n",
       "22   abused     -3   \n",
       "23   abuses     -3   \n",
       "24   abusive    -3   \n",
       "25   accept      1   \n",
       "26   accepted    1   \n",
       "27   accepting   1   \n",
       "28   accepts     1   \n",
       "29   accident   -2   \n",
       "30   accidental -2   \n",
       "...  ...        ...  \n",
       "2447 worry      -3   \n",
       "2448 worrying   -3   \n",
       "2449 worse      -3   \n",
       "2450 worsen     -3   \n",
       "2451 worsened   -3   \n",
       "2452 worsening  -3   \n",
       "2453 worsens    -3   \n",
       "2454 worshiped   3   \n",
       "2455 worst      -3   \n",
       "2456 worth       2   \n",
       "2457 worthless  -2   \n",
       "2458 worthy      2   \n",
       "2459 wow         4   \n",
       "2460 wowow       4   \n",
       "2461 wowww       4   \n",
       "2462 wrathful   -3   \n",
       "2463 wreck      -2   \n",
       "2464 wrong      -2   \n",
       "2465 wronged    -2   \n",
       "2466 wtf        -4   \n",
       "2467 yeah        1   \n",
       "2468 yearning    1   \n",
       "2469 yeees       2   \n",
       "2470 yes         1   \n",
       "2471 youthful    2   \n",
       "2472 yucky      -2   \n",
       "2473 yummy       3   \n",
       "2474 zealot     -2   \n",
       "2475 zealots    -2   \n",
       "2476 zealous     2   "
      ]
     },
     "metadata": {},
     "output_type": "display_data"
    }
   ],
   "source": [
    "get_sentiments(\"afinn\")"
   ]
  },
  {
   "cell_type": "code",
   "execution_count": 173,
   "metadata": {},
   "outputs": [
    {
     "data": {
      "text/html": [
       "<table>\n",
       "<thead><tr><th scope=col>word</th><th scope=col>sentiment</th></tr></thead>\n",
       "<tbody>\n",
       "\t<tr><td>abacus     </td><td>trust      </td></tr>\n",
       "\t<tr><td>abandon    </td><td>fear       </td></tr>\n",
       "\t<tr><td>abandon    </td><td>negative   </td></tr>\n",
       "\t<tr><td>abandon    </td><td>sadness    </td></tr>\n",
       "\t<tr><td>abandoned  </td><td>anger      </td></tr>\n",
       "\t<tr><td>abandoned  </td><td>fear       </td></tr>\n",
       "\t<tr><td>abandoned  </td><td>negative   </td></tr>\n",
       "\t<tr><td>abandoned  </td><td>sadness    </td></tr>\n",
       "\t<tr><td>abandonment</td><td>anger      </td></tr>\n",
       "\t<tr><td>abandonment</td><td>fear       </td></tr>\n",
       "\t<tr><td>abandonment</td><td>negative   </td></tr>\n",
       "\t<tr><td>abandonment</td><td>sadness    </td></tr>\n",
       "\t<tr><td>abandonment</td><td>surprise   </td></tr>\n",
       "\t<tr><td>abba       </td><td>positive   </td></tr>\n",
       "\t<tr><td>abbot      </td><td>trust      </td></tr>\n",
       "\t<tr><td>abduction  </td><td>fear       </td></tr>\n",
       "\t<tr><td>abduction  </td><td>negative   </td></tr>\n",
       "\t<tr><td>abduction  </td><td>sadness    </td></tr>\n",
       "\t<tr><td>abduction  </td><td>surprise   </td></tr>\n",
       "\t<tr><td>aberrant   </td><td>negative   </td></tr>\n",
       "\t<tr><td>aberration </td><td>disgust    </td></tr>\n",
       "\t<tr><td>aberration </td><td>negative   </td></tr>\n",
       "\t<tr><td>abhor      </td><td>anger      </td></tr>\n",
       "\t<tr><td>abhor      </td><td>disgust    </td></tr>\n",
       "\t<tr><td>abhor      </td><td>fear       </td></tr>\n",
       "\t<tr><td>abhor      </td><td>negative   </td></tr>\n",
       "\t<tr><td>abhorrent  </td><td>anger      </td></tr>\n",
       "\t<tr><td>abhorrent  </td><td>disgust    </td></tr>\n",
       "\t<tr><td>abhorrent  </td><td>fear       </td></tr>\n",
       "\t<tr><td>abhorrent  </td><td>negative   </td></tr>\n",
       "\t<tr><td>...</td><td>...</td></tr>\n",
       "\t<tr><td>yellows     </td><td>negative    </td></tr>\n",
       "\t<tr><td>yelp        </td><td>anger       </td></tr>\n",
       "\t<tr><td>yelp        </td><td>fear        </td></tr>\n",
       "\t<tr><td>yelp        </td><td>negative    </td></tr>\n",
       "\t<tr><td>yelp        </td><td>surprise    </td></tr>\n",
       "\t<tr><td>young       </td><td>anticipation</td></tr>\n",
       "\t<tr><td>young       </td><td>joy         </td></tr>\n",
       "\t<tr><td>young       </td><td>positive    </td></tr>\n",
       "\t<tr><td>young       </td><td>surprise    </td></tr>\n",
       "\t<tr><td>younger     </td><td>positive    </td></tr>\n",
       "\t<tr><td>youth       </td><td>anger       </td></tr>\n",
       "\t<tr><td>youth       </td><td>anticipation</td></tr>\n",
       "\t<tr><td>youth       </td><td>fear        </td></tr>\n",
       "\t<tr><td>youth       </td><td>joy         </td></tr>\n",
       "\t<tr><td>youth       </td><td>positive    </td></tr>\n",
       "\t<tr><td>youth       </td><td>surprise    </td></tr>\n",
       "\t<tr><td>zany        </td><td>surprise    </td></tr>\n",
       "\t<tr><td>zeal        </td><td>anticipation</td></tr>\n",
       "\t<tr><td>zeal        </td><td>joy         </td></tr>\n",
       "\t<tr><td>zeal        </td><td>positive    </td></tr>\n",
       "\t<tr><td>zeal        </td><td>surprise    </td></tr>\n",
       "\t<tr><td>zeal        </td><td>trust       </td></tr>\n",
       "\t<tr><td>zealous     </td><td>joy         </td></tr>\n",
       "\t<tr><td>zealous     </td><td>positive    </td></tr>\n",
       "\t<tr><td>zealous     </td><td>trust       </td></tr>\n",
       "\t<tr><td>zest        </td><td>anticipation</td></tr>\n",
       "\t<tr><td>zest        </td><td>joy         </td></tr>\n",
       "\t<tr><td>zest        </td><td>positive    </td></tr>\n",
       "\t<tr><td>zest        </td><td>trust       </td></tr>\n",
       "\t<tr><td>zip         </td><td>negative    </td></tr>\n",
       "</tbody>\n",
       "</table>\n"
      ],
      "text/latex": [
       "\\begin{tabular}{r|ll}\n",
       " word & sentiment\\\\\n",
       "\\hline\n",
       "\t abacus      & trust      \\\\\n",
       "\t abandon     & fear       \\\\\n",
       "\t abandon     & negative   \\\\\n",
       "\t abandon     & sadness    \\\\\n",
       "\t abandoned   & anger      \\\\\n",
       "\t abandoned   & fear       \\\\\n",
       "\t abandoned   & negative   \\\\\n",
       "\t abandoned   & sadness    \\\\\n",
       "\t abandonment & anger      \\\\\n",
       "\t abandonment & fear       \\\\\n",
       "\t abandonment & negative   \\\\\n",
       "\t abandonment & sadness    \\\\\n",
       "\t abandonment & surprise   \\\\\n",
       "\t abba        & positive   \\\\\n",
       "\t abbot       & trust      \\\\\n",
       "\t abduction   & fear       \\\\\n",
       "\t abduction   & negative   \\\\\n",
       "\t abduction   & sadness    \\\\\n",
       "\t abduction   & surprise   \\\\\n",
       "\t aberrant    & negative   \\\\\n",
       "\t aberration  & disgust    \\\\\n",
       "\t aberration  & negative   \\\\\n",
       "\t abhor       & anger      \\\\\n",
       "\t abhor       & disgust    \\\\\n",
       "\t abhor       & fear       \\\\\n",
       "\t abhor       & negative   \\\\\n",
       "\t abhorrent   & anger      \\\\\n",
       "\t abhorrent   & disgust    \\\\\n",
       "\t abhorrent   & fear       \\\\\n",
       "\t abhorrent   & negative   \\\\\n",
       "\t ... & ...\\\\\n",
       "\t yellows      & negative    \\\\\n",
       "\t yelp         & anger       \\\\\n",
       "\t yelp         & fear        \\\\\n",
       "\t yelp         & negative    \\\\\n",
       "\t yelp         & surprise    \\\\\n",
       "\t young        & anticipation\\\\\n",
       "\t young        & joy         \\\\\n",
       "\t young        & positive    \\\\\n",
       "\t young        & surprise    \\\\\n",
       "\t younger      & positive    \\\\\n",
       "\t youth        & anger       \\\\\n",
       "\t youth        & anticipation\\\\\n",
       "\t youth        & fear        \\\\\n",
       "\t youth        & joy         \\\\\n",
       "\t youth        & positive    \\\\\n",
       "\t youth        & surprise    \\\\\n",
       "\t zany         & surprise    \\\\\n",
       "\t zeal         & anticipation\\\\\n",
       "\t zeal         & joy         \\\\\n",
       "\t zeal         & positive    \\\\\n",
       "\t zeal         & surprise    \\\\\n",
       "\t zeal         & trust       \\\\\n",
       "\t zealous      & joy         \\\\\n",
       "\t zealous      & positive    \\\\\n",
       "\t zealous      & trust       \\\\\n",
       "\t zest         & anticipation\\\\\n",
       "\t zest         & joy         \\\\\n",
       "\t zest         & positive    \\\\\n",
       "\t zest         & trust       \\\\\n",
       "\t zip          & negative    \\\\\n",
       "\\end{tabular}\n"
      ],
      "text/markdown": [
       "\n",
       "| word | sentiment |\n",
       "|---|---|\n",
       "| abacus      | trust       |\n",
       "| abandon     | fear        |\n",
       "| abandon     | negative    |\n",
       "| abandon     | sadness     |\n",
       "| abandoned   | anger       |\n",
       "| abandoned   | fear        |\n",
       "| abandoned   | negative    |\n",
       "| abandoned   | sadness     |\n",
       "| abandonment | anger       |\n",
       "| abandonment | fear        |\n",
       "| abandonment | negative    |\n",
       "| abandonment | sadness     |\n",
       "| abandonment | surprise    |\n",
       "| abba        | positive    |\n",
       "| abbot       | trust       |\n",
       "| abduction   | fear        |\n",
       "| abduction   | negative    |\n",
       "| abduction   | sadness     |\n",
       "| abduction   | surprise    |\n",
       "| aberrant    | negative    |\n",
       "| aberration  | disgust     |\n",
       "| aberration  | negative    |\n",
       "| abhor       | anger       |\n",
       "| abhor       | disgust     |\n",
       "| abhor       | fear        |\n",
       "| abhor       | negative    |\n",
       "| abhorrent   | anger       |\n",
       "| abhorrent   | disgust     |\n",
       "| abhorrent   | fear        |\n",
       "| abhorrent   | negative    |\n",
       "| ... | ... |\n",
       "| yellows      | negative     |\n",
       "| yelp         | anger        |\n",
       "| yelp         | fear         |\n",
       "| yelp         | negative     |\n",
       "| yelp         | surprise     |\n",
       "| young        | anticipation |\n",
       "| young        | joy          |\n",
       "| young        | positive     |\n",
       "| young        | surprise     |\n",
       "| younger      | positive     |\n",
       "| youth        | anger        |\n",
       "| youth        | anticipation |\n",
       "| youth        | fear         |\n",
       "| youth        | joy          |\n",
       "| youth        | positive     |\n",
       "| youth        | surprise     |\n",
       "| zany         | surprise     |\n",
       "| zeal         | anticipation |\n",
       "| zeal         | joy          |\n",
       "| zeal         | positive     |\n",
       "| zeal         | surprise     |\n",
       "| zeal         | trust        |\n",
       "| zealous      | joy          |\n",
       "| zealous      | positive     |\n",
       "| zealous      | trust        |\n",
       "| zest         | anticipation |\n",
       "| zest         | joy          |\n",
       "| zest         | positive     |\n",
       "| zest         | trust        |\n",
       "| zip          | negative     |\n",
       "\n"
      ],
      "text/plain": [
       "      word        sentiment   \n",
       "1     abacus      trust       \n",
       "2     abandon     fear        \n",
       "3     abandon     negative    \n",
       "4     abandon     sadness     \n",
       "5     abandoned   anger       \n",
       "6     abandoned   fear        \n",
       "7     abandoned   negative    \n",
       "8     abandoned   sadness     \n",
       "9     abandonment anger       \n",
       "10    abandonment fear        \n",
       "11    abandonment negative    \n",
       "12    abandonment sadness     \n",
       "13    abandonment surprise    \n",
       "14    abba        positive    \n",
       "15    abbot       trust       \n",
       "16    abduction   fear        \n",
       "17    abduction   negative    \n",
       "18    abduction   sadness     \n",
       "19    abduction   surprise    \n",
       "20    aberrant    negative    \n",
       "21    aberration  disgust     \n",
       "22    aberration  negative    \n",
       "23    abhor       anger       \n",
       "24    abhor       disgust     \n",
       "25    abhor       fear        \n",
       "26    abhor       negative    \n",
       "27    abhorrent   anger       \n",
       "28    abhorrent   disgust     \n",
       "29    abhorrent   fear        \n",
       "30    abhorrent   negative    \n",
       "...   ...         ...         \n",
       "13872 yellows     negative    \n",
       "13873 yelp        anger       \n",
       "13874 yelp        fear        \n",
       "13875 yelp        negative    \n",
       "13876 yelp        surprise    \n",
       "13877 young       anticipation\n",
       "13878 young       joy         \n",
       "13879 young       positive    \n",
       "13880 young       surprise    \n",
       "13881 younger     positive    \n",
       "13882 youth       anger       \n",
       "13883 youth       anticipation\n",
       "13884 youth       fear        \n",
       "13885 youth       joy         \n",
       "13886 youth       positive    \n",
       "13887 youth       surprise    \n",
       "13888 zany        surprise    \n",
       "13889 zeal        anticipation\n",
       "13890 zeal        joy         \n",
       "13891 zeal        positive    \n",
       "13892 zeal        surprise    \n",
       "13893 zeal        trust       \n",
       "13894 zealous     joy         \n",
       "13895 zealous     positive    \n",
       "13896 zealous     trust       \n",
       "13897 zest        anticipation\n",
       "13898 zest        joy         \n",
       "13899 zest        positive    \n",
       "13900 zest        trust       \n",
       "13901 zip         negative    "
      ]
     },
     "metadata": {},
     "output_type": "display_data"
    }
   ],
   "source": [
    "get_sentiments(\"nrc\")"
   ]
  },
  {
   "cell_type": "code",
   "execution_count": 177,
   "metadata": {},
   "outputs": [
    {
     "name": "stderr",
     "output_type": "stream",
     "text": [
      "Joining, by = \"word\"\n"
     ]
    },
    {
     "data": {
      "text/html": [
       "<table>\n",
       "<thead><tr><th scope=col>word</th><th scope=col>n</th></tr></thead>\n",
       "<tbody>\n",
       "\t<tr><td>cancer    </td><td>690       </td></tr>\n",
       "\t<tr><td>inhibit   </td><td>185       </td></tr>\n",
       "\t<tr><td>loss      </td><td>143       </td></tr>\n",
       "\t<tr><td>tumour    </td><td>122       </td></tr>\n",
       "\t<tr><td>leukemia  </td><td> 95       </td></tr>\n",
       "\t<tr><td>sarcoma   </td><td> 84       </td></tr>\n",
       "\t<tr><td>treat     </td><td> 81       </td></tr>\n",
       "\t<tr><td>lower     </td><td> 64       </td></tr>\n",
       "\t<tr><td>repress   </td><td> 59       </td></tr>\n",
       "\t<tr><td>death     </td><td> 58       </td></tr>\n",
       "\t<tr><td>suppress  </td><td> 58       </td></tr>\n",
       "\t<tr><td>blue      </td><td> 36       </td></tr>\n",
       "\t<tr><td>carcinoma </td><td> 35       </td></tr>\n",
       "\t<tr><td>restrict  </td><td> 33       </td></tr>\n",
       "\t<tr><td>weight    </td><td> 25       </td></tr>\n",
       "\t<tr><td>error     </td><td> 23       </td></tr>\n",
       "\t<tr><td>chronic   </td><td> 15       </td></tr>\n",
       "\t<tr><td>lethal    </td><td> 14       </td></tr>\n",
       "\t<tr><td>cross     </td><td> 12       </td></tr>\n",
       "\t<tr><td>black     </td><td> 11       </td></tr>\n",
       "\t<tr><td>bottom    </td><td> 10       </td></tr>\n",
       "\t<tr><td>depart    </td><td>  8       </td></tr>\n",
       "\t<tr><td>lost      </td><td>  8       </td></tr>\n",
       "\t<tr><td>lose      </td><td>  7       </td></tr>\n",
       "\t<tr><td>bad       </td><td>  6       </td></tr>\n",
       "\t<tr><td>die       </td><td>  6       </td></tr>\n",
       "\t<tr><td>inter     </td><td>  6       </td></tr>\n",
       "\t<tr><td>diminish  </td><td>  5       </td></tr>\n",
       "\t<tr><td>dismal    </td><td>  5       </td></tr>\n",
       "\t<tr><td>late      </td><td>  5       </td></tr>\n",
       "\t<tr><td>kill      </td><td>  4       </td></tr>\n",
       "\t<tr><td>retard    </td><td>  4       </td></tr>\n",
       "\t<tr><td>absent    </td><td>  3       </td></tr>\n",
       "\t<tr><td>dark      </td><td>  3       </td></tr>\n",
       "\t<tr><td>default   </td><td>  3       </td></tr>\n",
       "\t<tr><td>morbid    </td><td>  3       </td></tr>\n",
       "\t<tr><td>pain      </td><td>  3       </td></tr>\n",
       "\t<tr><td>remiss    </td><td>  3       </td></tr>\n",
       "\t<tr><td>fatal     </td><td>  2       </td></tr>\n",
       "\t<tr><td>margin    </td><td>  2       </td></tr>\n",
       "\t<tr><td>strip     </td><td>  2       </td></tr>\n",
       "\t<tr><td>bacteria  </td><td>  1       </td></tr>\n",
       "\t<tr><td>broken    </td><td>  1       </td></tr>\n",
       "\t<tr><td>cage      </td><td>  1       </td></tr>\n",
       "\t<tr><td>cataract  </td><td>  1       </td></tr>\n",
       "\t<tr><td>fall      </td><td>  1       </td></tr>\n",
       "\t<tr><td>fat       </td><td>  1       </td></tr>\n",
       "\t<tr><td>gore      </td><td>  1       </td></tr>\n",
       "\t<tr><td>hut       </td><td>  1       </td></tr>\n",
       "\t<tr><td>ill       </td><td>  1       </td></tr>\n",
       "\t<tr><td>orphan    </td><td>  1       </td></tr>\n",
       "\t<tr><td>overload  </td><td>  1       </td></tr>\n",
       "\t<tr><td>revolution</td><td>  1       </td></tr>\n",
       "\t<tr><td>shell     </td><td>  1       </td></tr>\n",
       "\t<tr><td>sick      </td><td>  1       </td></tr>\n",
       "\t<tr><td>withdraw  </td><td>  1       </td></tr>\n",
       "</tbody>\n",
       "</table>\n"
      ],
      "text/latex": [
       "\\begin{tabular}{r|ll}\n",
       " word & n\\\\\n",
       "\\hline\n",
       "\t cancer     & 690       \\\\\n",
       "\t inhibit    & 185       \\\\\n",
       "\t loss       & 143       \\\\\n",
       "\t tumour     & 122       \\\\\n",
       "\t leukemia   &  95       \\\\\n",
       "\t sarcoma    &  84       \\\\\n",
       "\t treat      &  81       \\\\\n",
       "\t lower      &  64       \\\\\n",
       "\t repress    &  59       \\\\\n",
       "\t death      &  58       \\\\\n",
       "\t suppress   &  58       \\\\\n",
       "\t blue       &  36       \\\\\n",
       "\t carcinoma  &  35       \\\\\n",
       "\t restrict   &  33       \\\\\n",
       "\t weight     &  25       \\\\\n",
       "\t error      &  23       \\\\\n",
       "\t chronic    &  15       \\\\\n",
       "\t lethal     &  14       \\\\\n",
       "\t cross      &  12       \\\\\n",
       "\t black      &  11       \\\\\n",
       "\t bottom     &  10       \\\\\n",
       "\t depart     &   8       \\\\\n",
       "\t lost       &   8       \\\\\n",
       "\t lose       &   7       \\\\\n",
       "\t bad        &   6       \\\\\n",
       "\t die        &   6       \\\\\n",
       "\t inter      &   6       \\\\\n",
       "\t diminish   &   5       \\\\\n",
       "\t dismal     &   5       \\\\\n",
       "\t late       &   5       \\\\\n",
       "\t kill       &   4       \\\\\n",
       "\t retard     &   4       \\\\\n",
       "\t absent     &   3       \\\\\n",
       "\t dark       &   3       \\\\\n",
       "\t default    &   3       \\\\\n",
       "\t morbid     &   3       \\\\\n",
       "\t pain       &   3       \\\\\n",
       "\t remiss     &   3       \\\\\n",
       "\t fatal      &   2       \\\\\n",
       "\t margin     &   2       \\\\\n",
       "\t strip      &   2       \\\\\n",
       "\t bacteria   &   1       \\\\\n",
       "\t broken     &   1       \\\\\n",
       "\t cage       &   1       \\\\\n",
       "\t cataract   &   1       \\\\\n",
       "\t fall       &   1       \\\\\n",
       "\t fat        &   1       \\\\\n",
       "\t gore       &   1       \\\\\n",
       "\t hut        &   1       \\\\\n",
       "\t ill        &   1       \\\\\n",
       "\t orphan     &   1       \\\\\n",
       "\t overload   &   1       \\\\\n",
       "\t revolution &   1       \\\\\n",
       "\t shell      &   1       \\\\\n",
       "\t sick       &   1       \\\\\n",
       "\t withdraw   &   1       \\\\\n",
       "\\end{tabular}\n"
      ],
      "text/markdown": [
       "\n",
       "| word | n |\n",
       "|---|---|\n",
       "| cancer     | 690        |\n",
       "| inhibit    | 185        |\n",
       "| loss       | 143        |\n",
       "| tumour     | 122        |\n",
       "| leukemia   |  95        |\n",
       "| sarcoma    |  84        |\n",
       "| treat      |  81        |\n",
       "| lower      |  64        |\n",
       "| repress    |  59        |\n",
       "| death      |  58        |\n",
       "| suppress   |  58        |\n",
       "| blue       |  36        |\n",
       "| carcinoma  |  35        |\n",
       "| restrict   |  33        |\n",
       "| weight     |  25        |\n",
       "| error      |  23        |\n",
       "| chronic    |  15        |\n",
       "| lethal     |  14        |\n",
       "| cross      |  12        |\n",
       "| black      |  11        |\n",
       "| bottom     |  10        |\n",
       "| depart     |   8        |\n",
       "| lost       |   8        |\n",
       "| lose       |   7        |\n",
       "| bad        |   6        |\n",
       "| die        |   6        |\n",
       "| inter      |   6        |\n",
       "| diminish   |   5        |\n",
       "| dismal     |   5        |\n",
       "| late       |   5        |\n",
       "| kill       |   4        |\n",
       "| retard     |   4        |\n",
       "| absent     |   3        |\n",
       "| dark       |   3        |\n",
       "| default    |   3        |\n",
       "| morbid     |   3        |\n",
       "| pain       |   3        |\n",
       "| remiss     |   3        |\n",
       "| fatal      |   2        |\n",
       "| margin     |   2        |\n",
       "| strip      |   2        |\n",
       "| bacteria   |   1        |\n",
       "| broken     |   1        |\n",
       "| cage       |   1        |\n",
       "| cataract   |   1        |\n",
       "| fall       |   1        |\n",
       "| fat        |   1        |\n",
       "| gore       |   1        |\n",
       "| hut        |   1        |\n",
       "| ill        |   1        |\n",
       "| orphan     |   1        |\n",
       "| overload   |   1        |\n",
       "| revolution |   1        |\n",
       "| shell      |   1        |\n",
       "| sick       |   1        |\n",
       "| withdraw   |   1        |\n",
       "\n"
      ],
      "text/plain": [
       "   word       n  \n",
       "1  cancer     690\n",
       "2  inhibit    185\n",
       "3  loss       143\n",
       "4  tumour     122\n",
       "5  leukemia    95\n",
       "6  sarcoma     84\n",
       "7  treat       81\n",
       "8  lower       64\n",
       "9  repress     59\n",
       "10 death       58\n",
       "11 suppress    58\n",
       "12 blue        36\n",
       "13 carcinoma   35\n",
       "14 restrict    33\n",
       "15 weight      25\n",
       "16 error       23\n",
       "17 chronic     15\n",
       "18 lethal      14\n",
       "19 cross       12\n",
       "20 black       11\n",
       "21 bottom      10\n",
       "22 depart       8\n",
       "23 lost         8\n",
       "24 lose         7\n",
       "25 bad          6\n",
       "26 die          6\n",
       "27 inter        6\n",
       "28 diminish     5\n",
       "29 dismal       5\n",
       "30 late         5\n",
       "31 kill         4\n",
       "32 retard       4\n",
       "33 absent       3\n",
       "34 dark         3\n",
       "35 default      3\n",
       "36 morbid       3\n",
       "37 pain         3\n",
       "38 remiss       3\n",
       "39 fatal        2\n",
       "40 margin       2\n",
       "41 strip        2\n",
       "42 bacteria     1\n",
       "43 broken       1\n",
       "44 cage         1\n",
       "45 cataract     1\n",
       "46 fall         1\n",
       "47 fat          1\n",
       "48 gore         1\n",
       "49 hut          1\n",
       "50 ill          1\n",
       "51 orphan       1\n",
       "52 overload     1\n",
       "53 revolution   1\n",
       "54 shell        1\n",
       "55 sick         1\n",
       "56 withdraw     1"
      ]
     },
     "metadata": {},
     "output_type": "display_data"
    }
   ],
   "source": [
    "#Filtering out sad words from dataset\n",
    "joy <- get_sentiments(\"nrc\") %>% \n",
    "  filter(sentiment == \"sadness\")\n",
    "#We notice 'cancer' has the highest word count\n",
    "full_join(data2, train, by = \"ID\") %>%\n",
    "  filter(Class == \"8\") %>%\n",
    "  inner_join(joy) %>%\n",
    "  count(word, sort = TRUE)"
   ]
  },
  {
   "cell_type": "markdown",
   "metadata": {},
   "source": [
    "<h1><font color=\"red\"><center id=\"Conclusion\">Conclusion<a class=\"anchor-link\" href=\"#Conclusion\">&#182;</a><center></font></h1>"
   ]
  },
  {
   "cell_type": "markdown",
   "metadata": {},
   "source": [
    "I have presented snippets of my analysis of clinical data. I attempted to identify patterns, relationships and assertions about genetic mutations based on clinical data. This report included the following measures:\n",
    "\n",
    "1. Tf-idf statistic - where I measured the importance if each word in the document.\n",
    "The following set of genes has the highest count: BRCA1,TP53,EGFR,PTEN,BRCA2.    Truncating Mutations are the most frequent variation of a gene. Classes 7 and 4 are represented the most in the dataset. However, class 1 has the highest gene count.\n",
    "Variation of genes is predominantly present in this set of classes 7, 2,1,6,4.\n",
    "The word 'pathogenic' prevails in classes 6,5,4,3,1where the following words dominate: brca2, vuss, pht, etc.\n",
    "\n",
    "2. Relationships between words\n",
    "\n",
    "3. Sentiment Analysis - where I studied the emotional intent of words to infer whether a section of text is positive or negative. I also looked at the emotional states such as \"angry,\" \"sad,\" and \"happy\" of the data.\n",
    "\n",
    "Statistical text analysis and appropriately chosen model will enable us to classify clinical evidence faster, more accurately and efficiently saving the time of medical professionals and reducing patent's waiting time."
   ]
  }
 ],
 "metadata": {
  "kernelspec": {
   "display_name": "R 3.2",
   "language": "R",
   "name": "ir32"
  },
  "language_info": {
   "codemirror_mode": "r",
   "file_extension": ".r",
   "mimetype": "text/x-r-source",
   "name": "R",
   "pygments_lexer": "r",
   "version": "3.5.1"
  }
 },
 "nbformat": 4,
 "nbformat_minor": 2
}
